{
 "cells": [
  {
   "cell_type": "markdown",
   "metadata": {},
   "source": [
    "<a href=\"https://www.skills.network/?utm_medium=Exinfluencer&utm_source=Exinfluencer&utm_content=000026UJ&utm_term=10006555&utm_id=NA-SkillsNetwork-Channel-SkillsNetworkCoursesIBMDeveloperSkillsNetworkDL0120ENSkillsNetwork20629446-2022-01-01\"><img src=\"https://cf-courses-data.s3.us.cloud-object-storage.appdomain.cloud/IBM-DL0120ENedX/labs/Template%20for%20Instructional%20Hands-on%20Labs/images/IDSNlogo.png\" width=\"400px\" align=\"center\"></a>\n",
    "\n",
    "<h1 align=\"center\"><font size=\"5\">RECURRENT NETWORKS and LSTM IN DEEP LEARNING</font></h1>\n"
   ]
  },
  {
   "cell_type": "markdown",
   "metadata": {},
   "source": [
    "<h2>Applying Recurrent Neural Networks/LSTM for Language Modeling</h2>\n",
    "Hello and welcome to this part. In this notebook, we will go over the topic of Language Modelling, and create a Recurrent Neural Network model based on the Long Short-Term Memory unit to train and benchmark on the Penn Treebank dataset. By the end of this notebook, you should be able to understand how TensorFlow builds and executes a RNN model for Language Modelling.\n"
   ]
  },
  {
   "cell_type": "markdown",
   "metadata": {},
   "source": [
    "<h2>The Objective</h2>\n",
    "By now, you should have an understanding of how Recurrent Networks work -- a specialized model to process sequential data by keeping track of the \"state\" or context. In this notebook, we go over a TensorFlow code snippet for creating a model focused on <b>Language Modelling</b> -- a very relevant task that is the cornerstone of many different linguistic problems such as <b>Speech Recognition, Machine Translation and Image Captioning</b>. For this, we will be using the Penn Treebank dataset, which is an often-used dataset for benchmarking Language Modelling models.\n"
   ]
  },
  {
   "cell_type": "markdown",
   "metadata": {},
   "source": [
    "<h3>Objectives<h3>    \n",
    "<h5> 1. What exactly is Language Modelling? </h5>\n",
    "<h5> 2. Work Embedding. </h5>\n",
    "<h5> 3. Applying Recurrent Neural Networks to Text Processing. </h5>\n",
    "<h5> 4. Building the LSTM model for Language Modeling. </h5>     \n"
   ]
  },
  {
   "cell_type": "markdown",
   "metadata": {},
   "source": [
    "<h2>Table of Contents</h2>\n",
    "<ol>\n",
    "    <li><a href=\"https://#language_modelling\">What exactly is Language Modelling?</a></li>\n",
    "    <li><a href=\"https://#treebank_dataset\">The Penn Treebank dataset</a></li>\n",
    "    <li><a href=\"https://#word_embedding\">Word Embedding</a></li>\n",
    "    <li><a href=\"https://#building_lstm_model\">Building the LSTM model for Language Modeling</a></li>\n",
    "    <li><a href=\"https://#ltsm\">LTSM</a></li>\n",
    "</ol>\n",
    "<p></p>\n",
    "</div>\n",
    "<br>\n"
   ]
  },
  {
   "cell_type": "markdown",
   "metadata": {
    "button": false,
    "deletable": true,
    "new_sheet": false,
    "run_control": {
     "read_only": false
    }
   },
   "source": [
    "***\n"
   ]
  },
  {
   "cell_type": "markdown",
   "metadata": {},
   "source": [
    "<a id=\"language_modelling\"></a>\n",
    "\n",
    "<h2>What exactly is Language Modelling?</h2>\n",
    "Language Modelling, to put it simply, <b>is the task of assigning probabilities to sequences of words</b>. This means that, given a context of one or a sequence of words in the language the model was trained on, the model should provide the next most probable words or sequence of words that follows from the given sequence of words the sentence. Language Modelling is one of the most important tasks in Natural Language Processing.\n",
    "\n",
    "<img src=\"https://ibm.box.com/shared/static/1d1i5gub6wljby2vani2vzxp0xsph702.png\" width=\"1080\">\n",
    "<center><i>Example of a sentence being predicted</i></center>\n",
    "<br><br>\n",
    "In this example, one can see the predictions for the next word of a sentence, given the context \"This is an\". As you can see, this boils down to a sequential data analysis task -- you are given a word or a sequence of words (the input data), and, given the context (the state), you need to find out what is the next word (the prediction). This kind of analysis is very important for language-related tasks such as <b>Speech Recognition, Machine Translation, Image Captioning, Text Correction</b> and many other very relevant problems. \n",
    "\n",
    "<img src=\"https://ibm.box.com/shared/static/az39idf9ipfdpc5ugifpgxnydelhyf3i.png\" width=\"1080\">\n",
    "<center><i>The above example is a schema of an RNN in execution</i></center>\n",
    "<br><br>\n",
    "As the above image shows, Recurrent Network models fit this problem like a glove. Alongside LSTM and its capacity to maintain the model's state for over one thousand time steps, we have all the tools we need to undertake this problem. The goal for this notebook is to create a model that can reach <b>low levels of perplexity</b> on our desired dataset.\n",
    "\n",
    "For Language Modelling problems, <b>perplexity</b> is the way to gauge efficiency. Perplexity is simply a measure of how well a probabilistic model is able to predict its sample. A higher-level way to explain this would be saying that <b>low perplexity means a higher degree of trust in the predictions the model makes</b>. Therefore, the lower perplexity is, the better.\n"
   ]
  },
  {
   "cell_type": "markdown",
   "metadata": {},
   "source": [
    "<a id=\"treebank_dataset\"></a>\n",
    "\n",
    "<h2>The Penn Treebank dataset</h2>\n",
    "Historically, datasets big enough for Natural Language Processing are hard to come by. This is in part due to the necessity of the sentences to be broken down and tagged with a certain degree of correctness -- or else the models trained on it won't be able to be correct at all. This means that we need a <b>large amount of data, annotated by or at least corrected by humans</b>. This is, of course, not an easy task at all.\n",
    "\n",
    "The Penn Treebank, or PTB for short, is a dataset maintained by the University of Pennsylvania. It is <i>huge</i> -- there are over <b>four million and eight hundred thousand</b> annotated words in it, all corrected by humans. It is composed of many different sources, from abstracts of Department of Energy papers to texts from the Library of America. Since it is verifiably correct and of such a huge size, the Penn Treebank is commonly used as a benchmark dataset for Language Modelling.\n",
    "\n",
    "The dataset is divided in different kinds of annotations, such as Piece-of-Speech, Syntactic and Semantic skeletons. For this example, we will simply use a sample of clean, non-annotated words (with the exception of one tag --<code>\\<unk></code>\n",
    ", which is used for rare words such as uncommon proper nouns) for our model. This means that we just want to predict what the next words would be, not what they mean in context or their classes on a given sentence.\n",
    "\n",
    "<center>Example of text from the dataset we are going to use, <b>ptb.train</b></center>\n",
    "<br><br>\n",
    "\n",
    "<div class=\"alert alert-block alert-info\" style=\"margin-top: 20px\">\n",
    "    <center>the percentage of lung cancer deaths among the workers at the west <code>&lt;unk&gt;</code> mass. paper factory appears to be the highest for any asbestos workers studied in western industrialized countries he said \n",
    " the plant which is owned by <code>&lt;unk&gt;</code> & <code>&lt;unk&gt;</code> co. was under contract with <code>&lt;unk&gt;</code> to make the cigarette filters \n",
    " the finding probably will support those who argue that the U.S. should regulate the class of asbestos including <code>&lt;unk&gt;</code> more <code>&lt;unk&gt;</code> than the common kind of asbestos <code>&lt;unk&gt;</code> found in most schools and other buildings dr. <code>&lt;unk&gt;</code> said</center>\n",
    "</div>\n"
   ]
  },
  {
   "cell_type": "markdown",
   "metadata": {
    "button": false,
    "deletable": true,
    "new_sheet": false,
    "run_control": {
     "read_only": false
    }
   },
   "source": [
    "<a id=\"word_embedding\"></a>\n",
    "\n",
    "<h2>Word Embeddings</h2><br/>\n",
    "\n",
    "For better processing, in this example, we will make use of <a href=\"https://www.tensorflow.org/tutorials/word2vec/?utm_medium=Exinfluencer&utm_source=Exinfluencer&utm_content=000026UJ&utm_term=10006555&utm_id=NA-SkillsNetwork-Channel-SkillsNetworkCoursesIBMDeveloperSkillsNetworkDL0120ENSkillsNetwork20629446-2022-01-01\"><b>word embeddings</b></a>, which is <b>a way of representing sentence structures or words as n-dimensional vectors (where n is a reasonably high number, such as 200 or 500) of real numbers</b>. Basically, we will assign each word a randomly-initialized vector, and input those into the network to be processed. After a number of iterations, these vectors are expected to assume values that help the network to correctly predict what it needs to -- in our case, the probable next word in the sentence. This is shown to be a very effective task in Natural Language Processing, and is a commonplace practice. <br><br> <font size=\"4\"><strong>\n",
    "$$Vec(\"Example\") = \\[0.02, 0.00, 0.00, 0.92, 0.30, \\ldots]$$ </strong></font> <br>\n",
    "Word Embedding tends to group up similarly used words <i>reasonably</i> close together in the vectorial space. For example, if we use T-SNE (a dimensional reduction visualization algorithm) to flatten the dimensions of our vectors into a 2-dimensional space and plot these words in a 2-dimensional space, we might see something like this:\n",
    "\n",
    "<img src=\"https://ibm.box.com/shared/static/bqhc5dg879gcoabzhxra1w8rkg3od1cu.png\" width=\"800\">\n",
    "<center><i>T-SNE Mockup with clusters marked for easier visualization</i></center>\n",
    "<br><br>\n",
    "As you can see, words that are frequently used together, in place of each other, or in the same places as them tend to be grouped together -- being closer together the higher they are correlated. For example, \"None\" is pretty semantically close to \"Zero\", while a phrase that uses \"Italy\", you could probably also fit \"Germany\" in it, with little damage to the sentence structure. The vectorial \"closeness\" for similar words like this is a great indicator of a well-built model.\n",
    "\n",
    "<hr>\n"
   ]
  },
  {
   "cell_type": "markdown",
   "metadata": {
    "button": false,
    "deletable": true,
    "new_sheet": false,
    "run_control": {
     "read_only": false
    }
   },
   "source": [
    "We need to import the necessary modules for our code. We need <b><code>numpy</code></b> and <b><code>tensorflow</code></b>, obviously. Additionally, we can import directly the <b><code>tensorflow\\.models.rnn</code></b> model, which includes the function for building RNNs, and <b><code>tensorflow\\.models.rnn.ptb.reader</code></b> which is the helper module for getting the input data from the dataset we just downloaded.\n",
    "\n",
    "If you want to learn more take a look at <https://github.com/tensorflow/models/blob/master/tutorials/rnn/ptb/reader.py>\n"
   ]
  },
  {
   "cell_type": "code",
   "execution_count": 1,
   "metadata": {
    "tags": []
   },
   "outputs": [
    {
     "name": "stdout",
     "output_type": "stream",
     "text": [
      "Requirement already satisfied: tensorflow in /home/jupyterlab/conda/envs/python/lib/python3.7/site-packages (2.8.0)\n",
      "Requirement already satisfied: keras<2.9,>=2.8.0rc0 in /home/jupyterlab/conda/envs/python/lib/python3.7/site-packages (from tensorflow) (2.8.0)\n",
      "Requirement already satisfied: flatbuffers>=1.12 in /home/jupyterlab/conda/envs/python/lib/python3.7/site-packages (from tensorflow) (2.0)\n",
      "Requirement already satisfied: libclang>=9.0.1 in /home/jupyterlab/conda/envs/python/lib/python3.7/site-packages (from tensorflow) (14.0.1)\n",
      "Requirement already satisfied: keras-preprocessing>=1.1.1 in /home/jupyterlab/conda/envs/python/lib/python3.7/site-packages (from tensorflow) (1.1.2)\n",
      "Requirement already satisfied: tf-estimator-nightly==2.8.0.dev2021122109 in /home/jupyterlab/conda/envs/python/lib/python3.7/site-packages (from tensorflow) (2.8.0.dev2021122109)\n",
      "Requirement already satisfied: opt-einsum>=2.3.2 in /home/jupyterlab/conda/envs/python/lib/python3.7/site-packages (from tensorflow) (3.3.0)\n",
      "Requirement already satisfied: grpcio<2.0,>=1.24.3 in /home/jupyterlab/conda/envs/python/lib/python3.7/site-packages (from tensorflow) (1.45.0)\n",
      "Requirement already satisfied: astunparse>=1.6.0 in /home/jupyterlab/conda/envs/python/lib/python3.7/site-packages (from tensorflow) (1.6.3)\n",
      "Requirement already satisfied: absl-py>=0.4.0 in /home/jupyterlab/conda/envs/python/lib/python3.7/site-packages (from tensorflow) (1.0.0)\n",
      "Requirement already satisfied: six>=1.12.0 in /home/jupyterlab/conda/envs/python/lib/python3.7/site-packages (from tensorflow) (1.16.0)\n",
      "Requirement already satisfied: termcolor>=1.1.0 in /home/jupyterlab/conda/envs/python/lib/python3.7/site-packages (from tensorflow) (1.1.0)\n",
      "Requirement already satisfied: setuptools in /home/jupyterlab/conda/envs/python/lib/python3.7/site-packages (from tensorflow) (62.1.0)\n",
      "Requirement already satisfied: wrapt>=1.11.0 in /home/jupyterlab/conda/envs/python/lib/python3.7/site-packages (from tensorflow) (1.14.0)\n",
      "Requirement already satisfied: google-pasta>=0.1.1 in /home/jupyterlab/conda/envs/python/lib/python3.7/site-packages (from tensorflow) (0.2.0)\n",
      "Requirement already satisfied: protobuf>=3.9.2 in /home/jupyterlab/conda/envs/python/lib/python3.7/site-packages (from tensorflow) (3.20.0rc2)\n",
      "Requirement already satisfied: tensorboard<2.9,>=2.8 in /home/jupyterlab/conda/envs/python/lib/python3.7/site-packages (from tensorflow) (2.8.0)\n",
      "Requirement already satisfied: typing-extensions>=3.6.6 in /home/jupyterlab/conda/envs/python/lib/python3.7/site-packages (from tensorflow) (4.2.0)\n",
      "Requirement already satisfied: h5py>=2.9.0 in /home/jupyterlab/conda/envs/python/lib/python3.7/site-packages (from tensorflow) (3.6.0)\n",
      "Requirement already satisfied: gast>=0.2.1 in /home/jupyterlab/conda/envs/python/lib/python3.7/site-packages (from tensorflow) (0.5.3)\n",
      "Requirement already satisfied: numpy>=1.20 in /home/jupyterlab/conda/envs/python/lib/python3.7/site-packages (from tensorflow) (1.21.4)\n",
      "Requirement already satisfied: tensorflow-io-gcs-filesystem>=0.23.1 in /home/jupyterlab/conda/envs/python/lib/python3.7/site-packages (from tensorflow) (0.25.0)\n",
      "Requirement already satisfied: wheel<1.0,>=0.23.0 in /home/jupyterlab/conda/envs/python/lib/python3.7/site-packages (from astunparse>=1.6.0->tensorflow) (0.37.1)\n",
      "Requirement already satisfied: cached-property in /home/jupyterlab/conda/envs/python/lib/python3.7/site-packages (from h5py>=2.9.0->tensorflow) (1.5.2)\n",
      "Requirement already satisfied: tensorboard-plugin-wit>=1.6.0 in /home/jupyterlab/conda/envs/python/lib/python3.7/site-packages (from tensorboard<2.9,>=2.8->tensorflow) (1.8.1)\n",
      "Requirement already satisfied: google-auth-oauthlib<0.5,>=0.4.1 in /home/jupyterlab/conda/envs/python/lib/python3.7/site-packages (from tensorboard<2.9,>=2.8->tensorflow) (0.4.6)\n",
      "Requirement already satisfied: markdown>=2.6.8 in /home/jupyterlab/conda/envs/python/lib/python3.7/site-packages (from tensorboard<2.9,>=2.8->tensorflow) (3.3.6)\n",
      "Requirement already satisfied: tensorboard-data-server<0.7.0,>=0.6.0 in /home/jupyterlab/conda/envs/python/lib/python3.7/site-packages (from tensorboard<2.9,>=2.8->tensorflow) (0.6.1)\n",
      "Requirement already satisfied: werkzeug>=0.11.15 in /home/jupyterlab/conda/envs/python/lib/python3.7/site-packages (from tensorboard<2.9,>=2.8->tensorflow) (2.1.1)\n",
      "Requirement already satisfied: requests<3,>=2.21.0 in /home/jupyterlab/conda/envs/python/lib/python3.7/site-packages (from tensorboard<2.9,>=2.8->tensorflow) (2.27.1)\n",
      "Requirement already satisfied: google-auth<3,>=1.6.3 in /home/jupyterlab/conda/envs/python/lib/python3.7/site-packages (from tensorboard<2.9,>=2.8->tensorflow) (2.6.6)\n",
      "Requirement already satisfied: pyasn1-modules>=0.2.1 in /home/jupyterlab/conda/envs/python/lib/python3.7/site-packages (from google-auth<3,>=1.6.3->tensorboard<2.9,>=2.8->tensorflow) (0.2.8)\n",
      "Requirement already satisfied: cachetools<6.0,>=2.0.0 in /home/jupyterlab/conda/envs/python/lib/python3.7/site-packages (from google-auth<3,>=1.6.3->tensorboard<2.9,>=2.8->tensorflow) (5.0.0)\n",
      "Requirement already satisfied: rsa<5,>=3.1.4 in /home/jupyterlab/conda/envs/python/lib/python3.7/site-packages (from google-auth<3,>=1.6.3->tensorboard<2.9,>=2.8->tensorflow) (4.8)\n",
      "Requirement already satisfied: requests-oauthlib>=0.7.0 in /home/jupyterlab/conda/envs/python/lib/python3.7/site-packages (from google-auth-oauthlib<0.5,>=0.4.1->tensorboard<2.9,>=2.8->tensorflow) (1.3.1)\n",
      "Requirement already satisfied: importlib-metadata>=4.4 in /home/jupyterlab/conda/envs/python/lib/python3.7/site-packages (from markdown>=2.6.8->tensorboard<2.9,>=2.8->tensorflow) (4.11.3)\n",
      "Requirement already satisfied: certifi>=2017.4.17 in /home/jupyterlab/conda/envs/python/lib/python3.7/site-packages (from requests<3,>=2.21.0->tensorboard<2.9,>=2.8->tensorflow) (2021.10.8)\n",
      "Requirement already satisfied: urllib3<1.27,>=1.21.1 in /home/jupyterlab/conda/envs/python/lib/python3.7/site-packages (from requests<3,>=2.21.0->tensorboard<2.9,>=2.8->tensorflow) (1.26.9)\n",
      "Requirement already satisfied: idna<4,>=2.5 in /home/jupyterlab/conda/envs/python/lib/python3.7/site-packages (from requests<3,>=2.21.0->tensorboard<2.9,>=2.8->tensorflow) (3.3)\n",
      "Requirement already satisfied: charset-normalizer~=2.0.0 in /home/jupyterlab/conda/envs/python/lib/python3.7/site-packages (from requests<3,>=2.21.0->tensorboard<2.9,>=2.8->tensorflow) (2.0.12)\n",
      "Requirement already satisfied: zipp>=0.5 in /home/jupyterlab/conda/envs/python/lib/python3.7/site-packages (from importlib-metadata>=4.4->markdown>=2.6.8->tensorboard<2.9,>=2.8->tensorflow) (3.8.0)\n",
      "Requirement already satisfied: pyasn1<0.5.0,>=0.4.6 in /home/jupyterlab/conda/envs/python/lib/python3.7/site-packages (from pyasn1-modules>=0.2.1->google-auth<3,>=1.6.3->tensorboard<2.9,>=2.8->tensorflow) (0.4.8)\n",
      "Requirement already satisfied: oauthlib>=3.0.0 in /home/jupyterlab/conda/envs/python/lib/python3.7/site-packages (from requests-oauthlib>=0.7.0->google-auth-oauthlib<0.5,>=0.4.1->tensorboard<2.9,>=2.8->tensorflow) (3.2.0)\n",
      "Requirement already satisfied: numpy==1.21.4 in /home/jupyterlab/conda/envs/python/lib/python3.7/site-packages (1.21.4)\n"
     ]
    }
   ],
   "source": [
    "!pip install --upgrade tensorflow\n",
    "!pip install numpy==1.21.4\n"
   ]
  },
  {
   "cell_type": "code",
   "execution_count": 2,
   "metadata": {},
   "outputs": [
    {
     "name": "stderr",
     "output_type": "stream",
     "text": [
      "2022-04-30 15:06:40.048882: W tensorflow/stream_executor/platform/default/dso_loader.cc:64] Could not load dynamic library 'libcudart.so.11.0'; dlerror: libcudart.so.11.0: cannot open shared object file: No such file or directory\n",
      "2022-04-30 15:06:40.048935: I tensorflow/stream_executor/cuda/cudart_stub.cc:29] Ignore above cudart dlerror if you do not have a GPU set up on your machine.\n"
     ]
    },
    {
     "name": "stdout",
     "output_type": "stream",
     "text": [
      "2.8.0\n"
     ]
    },
    {
     "ename": "ValueError",
     "evalue": "Restart your Kernel (Kernel->Restart & Clear Output)",
     "output_type": "error",
     "traceback": [
      "\u001b[0;31m---------------------------------------------------------------------------\u001b[0m",
      "\u001b[0;31mValueError\u001b[0m                                Traceback (most recent call last)",
      "\u001b[0;32m/tmp/ipykernel_979/3644301319.py\u001b[0m in \u001b[0;36m<module>\u001b[0;34m\u001b[0m\n\u001b[1;32m      7\u001b[0m \u001b[0;32mif\u001b[0m \u001b[0;32mnot\u001b[0m \u001b[0mtf\u001b[0m\u001b[0;34m.\u001b[0m\u001b[0m__version__\u001b[0m \u001b[0;34m==\u001b[0m \u001b[0;34m'2.2.0-rc0'\u001b[0m\u001b[0;34m:\u001b[0m\u001b[0;34m\u001b[0m\u001b[0;34m\u001b[0m\u001b[0m\n\u001b[1;32m      8\u001b[0m     \u001b[0mprint\u001b[0m\u001b[0;34m(\u001b[0m\u001b[0mtf\u001b[0m\u001b[0;34m.\u001b[0m\u001b[0m__version__\u001b[0m\u001b[0;34m)\u001b[0m\u001b[0;34m\u001b[0m\u001b[0;34m\u001b[0m\u001b[0m\n\u001b[0;32m----> 9\u001b[0;31m     \u001b[0;32mraise\u001b[0m \u001b[0mValueError\u001b[0m\u001b[0;34m(\u001b[0m\u001b[0;34m'Restart your Kernel (Kernel->Restart & Clear Output)'\u001b[0m\u001b[0;34m)\u001b[0m\u001b[0;34m\u001b[0m\u001b[0;34m\u001b[0m\u001b[0m\n\u001b[0m",
      "\u001b[0;31mValueError\u001b[0m: Restart your Kernel (Kernel->Restart & Clear Output)"
     ]
    }
   ],
   "source": [
    "import warnings\n",
    "warnings.filterwarnings('ignore')\n",
    "\n",
    "import time\n",
    "import numpy as np\n",
    "import tensorflow as tf\n",
    "if not tf.__version__ == '2.2.0-rc0':\n",
    "    print(tf.__version__)\n",
    "    raise ValueError('Restart your Kernel (Kernel->Restart & Clear Output)')"
   ]
  },
  {
   "cell_type": "markdown",
   "metadata": {},
   "source": [
    "IMPORTANT! => Please restart the kernel by clicking on \"Kernel\"->\"Restart and Clear Outout\" and wait until all output disapears. Then your changes are beeing picked up\n"
   ]
  },
  {
   "cell_type": "code",
   "execution_count": 3,
   "metadata": {
    "button": false,
    "deletable": true,
    "new_sheet": false,
    "run_control": {
     "read_only": false
    },
    "tags": []
   },
   "outputs": [
    {
     "name": "stdout",
     "output_type": "stream",
     "text": [
      "Archive:  data/ptb.zip\n",
      "   creating: data/ptb/\n",
      "  inflating: data/ptb/reader.py      \n"
     ]
    }
   ],
   "source": [
    "!mkdir data\n",
    "!wget -q -O data/ptb.zip https://cf-courses-data.s3.us.cloud-object-storage.appdomain.cloud/IBM-ML241EN-SkillsNetwork/labs/datasets/ptb.zip\n",
    "!unzip -o data/ptb.zip -d data\n",
    "!cp data/ptb/reader.py . \n",
    "\n"
   ]
  },
  {
   "cell_type": "code",
   "execution_count": 4,
   "metadata": {
    "tags": []
   },
   "outputs": [],
   "source": [
    "import reader"
   ]
  },
  {
   "cell_type": "markdown",
   "metadata": {
    "button": false,
    "deletable": true,
    "new_sheet": false,
    "run_control": {
     "read_only": false
    }
   },
   "source": [
    "<a id=\"building_lstm_model\"></a>\n",
    "\n",
    "<h2>Building the LSTM model for Language Modeling</h2>\n",
    "Now that we know exactly what we are doing, we can start building our model using TensorFlow. The very first thing we need to do is download and extract the <code>simple-examples</code> dataset, which can be done by executing the code cell below.\n"
   ]
  },
  {
   "cell_type": "code",
   "execution_count": 5,
   "metadata": {
    "button": false,
    "deletable": true,
    "new_sheet": false,
    "run_control": {
     "read_only": false
    },
    "tags": []
   },
   "outputs": [
    {
     "name": "stdout",
     "output_type": "stream",
     "text": [
      "--2022-04-30 15:07:04--  http://www.fit.vutbr.cz/~imikolov/rnnlm/simple-examples.tgz\n",
      "Resolving www.fit.vutbr.cz (www.fit.vutbr.cz)... 147.229.9.23, 2001:67c:1220:809::93e5:917\n",
      "Connecting to www.fit.vutbr.cz (www.fit.vutbr.cz)|147.229.9.23|:80... connected.\n",
      "HTTP request sent, awaiting response... 200 OK\n",
      "Length: 34869662 (33M) [application/x-gtar]\n",
      "Saving to: ‘simple-examples.tgz’\n",
      "\n",
      "simple-examples.tgz 100%[===================>]  33.25M  9.03MB/s    in 3.8s    \n",
      "\n",
      "2022-04-30 15:07:09 (8.66 MB/s) - ‘simple-examples.tgz’ saved [34869662/34869662]\n",
      "\n"
     ]
    }
   ],
   "source": [
    "!wget http://www.fit.vutbr.cz/~imikolov/rnnlm/simple-examples.tgz \n",
    "!tar xzf simple-examples.tgz -C data/"
   ]
  },
  {
   "cell_type": "markdown",
   "metadata": {
    "button": false,
    "deletable": true,
    "new_sheet": false,
    "run_control": {
     "read_only": false
    }
   },
   "source": [
    "Additionally, for the sake of making it easy to play around with the model's hyperparameters, we can declare them beforehand. Feel free to change these -- you will see a difference in performance each time you change those!\n"
   ]
  },
  {
   "cell_type": "code",
   "execution_count": 6,
   "metadata": {
    "button": false,
    "deletable": true,
    "new_sheet": false,
    "run_control": {
     "read_only": false
    }
   },
   "outputs": [],
   "source": [
    "#Initial weight scale\n",
    "init_scale = 0.1\n",
    "#Initial learning rate\n",
    "learning_rate = 1.0\n",
    "#Maximum permissible norm for the gradient (For gradient clipping -- another measure against Exploding Gradients)\n",
    "max_grad_norm = 5\n",
    "#The number of layers in our model\n",
    "num_layers = 2\n",
    "#The total number of recurrence steps, also known as the number of layers when our RNN is \"unfolded\"\n",
    "num_steps = 20\n",
    "#The number of processing units (neurons) in the hidden layers\n",
    "hidden_size_l1 = 256\n",
    "hidden_size_l2 = 128\n",
    "#The maximum number of epochs trained with the initial learning rate\n",
    "max_epoch_decay_lr = 4\n",
    "#The total number of epochs in training\n",
    "max_epoch = 15\n",
    "#The probability for keeping data in the Dropout Layer (This is an optimization, but is outside our scope for this notebook!)\n",
    "#At 1, we ignore the Dropout Layer wrapping.\n",
    "keep_prob = 1\n",
    "#The decay for the learning rate\n",
    "decay = 0.5\n",
    "#The size for each batch of data\n",
    "batch_size = 30\n",
    "#The size of our vocabulary\n",
    "vocab_size = 10000\n",
    "embeding_vector_size= 200\n",
    "#Training flag to separate training from testing\n",
    "is_training = 1\n",
    "#Data directory for our dataset\n",
    "data_dir = \"data/simple-examples/data/\""
   ]
  },
  {
   "cell_type": "markdown",
   "metadata": {
    "button": false,
    "new_sheet": false,
    "run_control": {
     "read_only": false
    }
   },
   "source": [
    "Some clarifications for LSTM architecture based on the arguments:\n",
    "\n",
    "Network structure:\n",
    "\n",
    "<ul>\n",
    "    <li>In this network, the number of LSTM cells are 2. To give the model more expressive power, we can add multiple layers of LSTMs to process the data. The output of the first layer will become the input of the second and so on.\n",
    "    </li>\n",
    "    <li>The recurrence steps is 20, that is, when our RNN is \"Unfolded\", the recurrence step is 20.</li>   \n",
    "    <li>the structure is like:\n",
    "        <ul>\n",
    "            <li>200 input units -> [200x200] Weight -> 200 Hidden units (first layer) -> [200x200] Weight matrix  -> 200 Hidden units (second layer) ->  [200] weight Matrix -> 200 unit output</li>\n",
    "        </ul>\n",
    "    </li>\n",
    "</ul>\n",
    "<br>\n",
    "\n",
    "Input layer:\n",
    "\n",
    "<ul>\n",
    "    <li>The network has 200 input units.</li>\n",
    "    <li>Suppose each word is represented by an embedding vector of dimensionality e=200. The input layer of each cell will have 200 linear units. These e=200 linear units are connected to each of the h=200 LSTM units in the hidden layer (assuming there is only one hidden layer, though our case has 2 layers).\n",
    "    </li>\n",
    "    <li>The input shape is [batch_size, num_steps], that is [30x20]. It will turn into [30x20x200] after embedding, and then 20x[30x200]\n",
    "    </li>\n",
    "</ul>\n",
    "<br>\n",
    "\n",
    "Hidden layer:\n",
    "\n",
    "<ul>\n",
    "    <li>Each LSTM has 200 hidden units which is equivalent to the dimensionality of the embedding words and output.</li>\n",
    "</ul>\n",
    "<br>\n"
   ]
  },
  {
   "cell_type": "markdown",
   "metadata": {
    "button": false,
    "deletable": true,
    "new_sheet": false,
    "run_control": {
     "read_only": false
    }
   },
   "source": [
    "There is a lot to be done and a ton of information to process at the same time, so go over this code slowly. It may seem complex at first, but if you try to apply what you just learned about language modelling to the code you see, you should be able to understand it.\n",
    "\n",
    "This code is adapted from the <a href=\"https://github.com/tensorflow/models?utm_medium=Exinfluencer&utm_source=Exinfluencer&utm_content=000026UJ&utm_term=10006555&utm_id=NA-SkillsNetwork-Channel-SkillsNetworkCoursesIBMDeveloperSkillsNetworkDL0120ENSkillsNetwork20629446-2022-01-01\">PTBModel</a> example bundled with the TensorFlow source code.\n",
    "\n",
    "<h3>Training data</h3>\n",
    "The story starts from data:\n",
    "<ul>\n",
    "    <li>Train data is a list of words, of size 929589, represented by numbers, e.g. [9971, 9972, 9974, 9975,...]</li>\n",
    "    <li>We read data as mini-batch of size b=30. Assume the size of each sentence is 20 words (num_steps = 20). Then it will take $$floor(\\frac{N}{b \\times h})+1=1548$$ iterations for the learner to go through all sentences once. Where N is the size of the list of words, b is batch size, and h is size of each sentence. So, the number of iterators is 1548\n",
    "    </li>\n",
    "    <li>Each batch data is read from train dataset of size 600, and shape of [30x20]</li>\n",
    "</ul>\n"
   ]
  },
  {
   "cell_type": "code",
   "execution_count": 7,
   "metadata": {
    "button": false,
    "deletable": true,
    "new_sheet": false,
    "run_control": {
     "read_only": false
    }
   },
   "outputs": [],
   "source": [
    "# Reads the data and separates it into training data, validation data and testing data\n",
    "raw_data = reader.ptb_raw_data(data_dir)\n",
    "train_data, valid_data, test_data, vocab, word_to_id = raw_data"
   ]
  },
  {
   "cell_type": "code",
   "execution_count": 8,
   "metadata": {},
   "outputs": [
    {
     "data": {
      "text/plain": [
       "929589"
      ]
     },
     "execution_count": 8,
     "metadata": {},
     "output_type": "execute_result"
    }
   ],
   "source": [
    "len(train_data)"
   ]
  },
  {
   "cell_type": "code",
   "execution_count": 9,
   "metadata": {
    "tags": []
   },
   "outputs": [
    {
     "name": "stdout",
     "output_type": "stream",
     "text": [
      "['aer', 'banknote', 'berlitz', 'calloway', 'centrust', 'cluett', 'fromstein', 'gitano', 'guterman', 'hydro-quebec', 'ipo', 'kia', 'memotec', 'mlx', 'nahb', 'punts', 'rake', 'regatta', 'rubens', 'sim', 'snack-food', 'ssangyong', 'swapo', 'wachter', '<eos>', 'pierre', '<unk>', 'N', 'years', 'old', 'will', 'join', 'the', 'board', 'as', 'a', 'nonexecutive', 'director', 'nov.', 'N', '<eos>', 'mr.', '<unk>', 'is', 'chairman', 'of', '<unk>', 'n.v.', 'the', 'dutch', 'publishing', 'group', '<eos>', 'rudolph', '<unk>', 'N', 'years', 'old', 'and', 'former', 'chairman', 'of', 'consolidated', 'gold', 'fields', 'plc', 'was', 'named', 'a', 'nonexecutive', 'director', 'of', 'this', 'british', 'industrial', 'conglomerate', '<eos>', 'a', 'form', 'of', 'asbestos', 'once', 'used', 'to', 'make', 'kent', 'cigarette', 'filters', 'has', 'caused', 'a', 'high', 'percentage', 'of', 'cancer', 'deaths', 'among', 'a', 'group', 'of']\n"
     ]
    }
   ],
   "source": [
    "def id_to_word(id_list):\n",
    "    line = []\n",
    "    for w in id_list:\n",
    "        for word, wid in word_to_id.items():\n",
    "            if wid == w:\n",
    "                line.append(word)\n",
    "    return line            \n",
    "                \n",
    "\n",
    "print(id_to_word(train_data[0:100]))"
   ]
  },
  {
   "cell_type": "markdown",
   "metadata": {
    "button": false,
    "deletable": true,
    "new_sheet": false,
    "run_control": {
     "read_only": false
    }
   },
   "source": [
    "Lets just read one mini-batch now and feed our network:\n"
   ]
  },
  {
   "cell_type": "code",
   "execution_count": 10,
   "metadata": {
    "button": false,
    "deletable": true,
    "new_sheet": false,
    "run_control": {
     "read_only": false
    }
   },
   "outputs": [],
   "source": [
    "itera = reader.ptb_iterator(train_data, batch_size, num_steps)\n",
    "first_touple = itera.__next__()\n",
    "_input_data = first_touple[0]\n",
    "_targets = first_touple[1]"
   ]
  },
  {
   "cell_type": "code",
   "execution_count": 11,
   "metadata": {
    "button": false,
    "deletable": true,
    "new_sheet": false,
    "run_control": {
     "read_only": false
    }
   },
   "outputs": [
    {
     "data": {
      "text/plain": [
       "(30, 20)"
      ]
     },
     "execution_count": 11,
     "metadata": {},
     "output_type": "execute_result"
    }
   ],
   "source": [
    "_input_data.shape"
   ]
  },
  {
   "cell_type": "code",
   "execution_count": 12,
   "metadata": {},
   "outputs": [
    {
     "data": {
      "text/plain": [
       "(30, 20)"
      ]
     },
     "execution_count": 12,
     "metadata": {},
     "output_type": "execute_result"
    }
   ],
   "source": [
    "_targets.shape"
   ]
  },
  {
   "cell_type": "markdown",
   "metadata": {
    "button": false,
    "deletable": true,
    "new_sheet": false,
    "run_control": {
     "read_only": false
    }
   },
   "source": [
    "Lets look at 3 sentences of our input x:\n"
   ]
  },
  {
   "cell_type": "code",
   "execution_count": 13,
   "metadata": {
    "button": false,
    "deletable": true,
    "new_sheet": false,
    "run_control": {
     "read_only": false
    }
   },
   "outputs": [
    {
     "data": {
      "text/plain": [
       "array([[9970, 9971, 9972, 9974, 9975, 9976, 9980, 9981, 9982, 9983, 9984,\n",
       "        9986, 9987, 9988, 9989, 9991, 9992, 9993, 9994, 9995],\n",
       "       [2654,    6,  334, 2886,    4,    1,  233,  711,  834,   11,  130,\n",
       "         123,    7,  514,    2,   63,   10,  514,    8,  605],\n",
       "       [   0, 1071,    4,    0,  185,   24,  368,   20,   31, 3109,  954,\n",
       "          12,    3,   21,    2, 2915,    2,   12,    3,   21]],\n",
       "      dtype=int32)"
      ]
     },
     "execution_count": 13,
     "metadata": {},
     "output_type": "execute_result"
    }
   ],
   "source": [
    "_input_data[0:3]"
   ]
  },
  {
   "cell_type": "code",
   "execution_count": 14,
   "metadata": {},
   "outputs": [
    {
     "name": "stdout",
     "output_type": "stream",
     "text": [
      "['aer', 'banknote', 'berlitz', 'calloway', 'centrust', 'cluett', 'fromstein', 'gitano', 'guterman', 'hydro-quebec', 'ipo', 'kia', 'memotec', 'mlx', 'nahb', 'punts', 'rake', 'regatta', 'rubens', 'sim']\n"
     ]
    }
   ],
   "source": [
    "print(id_to_word(_input_data[0,:]))"
   ]
  },
  {
   "cell_type": "markdown",
   "metadata": {
    "button": false,
    "deletable": true,
    "new_sheet": false,
    "run_control": {
     "read_only": false
    }
   },
   "source": [
    "<h3>Embeddings</h3>\n",
    "We have to convert the words in our dataset to vectors of numbers. The traditional approach is to use one-hot encoding method that is usually used for converting categorical values to numerical values. However, One-hot encoded vectors are high-dimensional, sparse and in a big dataset, computationally inefficient. So, we use word2vec approach. It is, in fact, a layer in our LSTM network, where the word IDs will be represented as a dense representation before feeding to the LSTM. \n",
    "\n",
    "The embedded vectors also get updated during the training process of the deep neural network.\n",
    "We create the embeddings for our input data. <b>embedding_vocab</b> is matrix of \\[10000x200] for all 10000 unique words.\n"
   ]
  },
  {
   "cell_type": "markdown",
   "metadata": {
    "button": false,
    "deletable": true,
    "new_sheet": false,
    "run_control": {
     "read_only": false
    }
   },
   "source": [
    "<b>embedding_lookup()</b> finds the embedded values for our batch of 30x20 words. It  goes to each row of <code>input_data</code>, and for each word in the row/sentence, finds the correspond vector in <code>embedding_dic<code>. <br>\n",
    "It creates a \\[30x20x200] tensor, so, the first element of <b>inputs</b> (the first sentence), is a matrix of 20x200, which each row of it, is vector representing a word in the sentence.\n"
   ]
  },
  {
   "cell_type": "code",
   "execution_count": 15,
   "metadata": {},
   "outputs": [],
   "source": [
    "embedding_layer = tf.keras.layers.Embedding(vocab_size, embeding_vector_size,batch_input_shape=(batch_size, num_steps),trainable=True,name=\"embedding_vocab\")  "
   ]
  },
  {
   "cell_type": "code",
   "execution_count": 16,
   "metadata": {},
   "outputs": [
    {
     "name": "stderr",
     "output_type": "stream",
     "text": [
      "2022-04-30 15:07:45.508115: W tensorflow/stream_executor/platform/default/dso_loader.cc:64] Could not load dynamic library 'libcuda.so.1'; dlerror: libcuda.so.1: cannot open shared object file: No such file or directory\n",
      "2022-04-30 15:07:45.508174: W tensorflow/stream_executor/cuda/cuda_driver.cc:269] failed call to cuInit: UNKNOWN ERROR (303)\n",
      "2022-04-30 15:07:45.508207: I tensorflow/stream_executor/cuda/cuda_diagnostics.cc:156] kernel driver does not appear to be running on this host (jupyterlab-jesus12): /proc/driver/nvidia/version does not exist\n",
      "2022-04-30 15:07:45.508681: I tensorflow/core/platform/cpu_feature_guard.cc:151] This TensorFlow binary is optimized with oneAPI Deep Neural Network Library (oneDNN) to use the following CPU instructions in performance-critical operations:  AVX2 AVX512F FMA\n",
      "To enable them in other operations, rebuild TensorFlow with the appropriate compiler flags.\n"
     ]
    },
    {
     "data": {
      "text/plain": [
       "<tf.Tensor: shape=(30, 20, 200), dtype=float32, numpy=\n",
       "array([[[ 0.00498127, -0.01725717, -0.03767655, ...,  0.03294734,\n",
       "         -0.04594679, -0.03797114],\n",
       "        [-0.02277823, -0.03545432,  0.02915425, ...,  0.03946049,\n",
       "          0.04727259,  0.0023679 ],\n",
       "        [-0.04629126, -0.04065048,  0.03444621, ..., -0.04336682,\n",
       "         -0.0141292 , -0.00765778],\n",
       "        ...,\n",
       "        [ 0.02966974, -0.03727048, -0.01856824, ...,  0.03581763,\n",
       "          0.04368896,  0.04653973],\n",
       "        [ 0.02212478, -0.04903005, -0.03258158, ...,  0.02182439,\n",
       "         -0.03204063,  0.01082546],\n",
       "        [ 0.02583429,  0.01528222,  0.00387001, ...,  0.01370475,\n",
       "          0.01556319,  0.00186441]],\n",
       "\n",
       "       [[ 0.02785956, -0.03548042, -0.02150483, ..., -0.00597   ,\n",
       "          0.01208466,  0.01843342],\n",
       "        [-0.04231831, -0.01111895, -0.00702576, ..., -0.04498795,\n",
       "         -0.02897269,  0.02491013],\n",
       "        [ 0.01532984, -0.04785266,  0.01321771, ...,  0.00873052,\n",
       "          0.02118618, -0.01128976],\n",
       "        ...,\n",
       "        [ 0.02600855, -0.04693756,  0.04200305, ...,  0.04677537,\n",
       "          0.01441938, -0.03811134],\n",
       "        [ 0.03885994,  0.00640637,  0.03585234, ..., -0.04036667,\n",
       "         -0.03017218,  0.03398026],\n",
       "        [-0.03960747, -0.03041155,  0.03490495, ...,  0.0138597 ,\n",
       "          0.01636306, -0.04264022]],\n",
       "\n",
       "       [[-0.04638174,  0.029873  , -0.03566075, ..., -0.04800166,\n",
       "         -0.01615828,  0.01164571],\n",
       "        [ 0.04323563, -0.02779899,  0.04677993, ...,  0.0003947 ,\n",
       "         -0.01616223,  0.03458789],\n",
       "        [ 0.02267959, -0.01066791, -0.04887934, ...,  0.04985351,\n",
       "          0.03978652,  0.02882529],\n",
       "        ...,\n",
       "        [-0.03411367, -0.0443705 ,  0.04059752, ..., -0.0352667 ,\n",
       "          0.0411175 , -0.03179423],\n",
       "        [ 0.01462494, -0.00979703,  0.01514354, ...,  0.04358759,\n",
       "          0.04295575,  0.03993641],\n",
       "        [-0.01313002, -0.04035022, -0.02341063, ..., -0.02533416,\n",
       "          0.03194242,  0.01444955]],\n",
       "\n",
       "       ...,\n",
       "\n",
       "       [[ 0.01006896,  0.00529748, -0.02781688, ..., -0.00411176,\n",
       "         -0.02829354,  0.03347441],\n",
       "        [-0.04068009, -0.04019006,  0.03516095, ...,  0.0486905 ,\n",
       "         -0.03201491, -0.01737524],\n",
       "        [ 0.04661318, -0.02463462,  0.02771195, ..., -0.02490702,\n",
       "          0.04735995, -0.02568517],\n",
       "        ...,\n",
       "        [-0.00105568,  0.03740991,  0.01840604, ..., -0.02674909,\n",
       "         -0.01699152, -0.03730164],\n",
       "        [ 0.03224793, -0.0348603 , -0.04819584, ...,  0.04502907,\n",
       "          0.02775136,  0.01734601],\n",
       "        [ 0.01894457,  0.00010813, -0.03735757, ..., -0.02944722,\n",
       "         -0.002536  , -0.04439069]],\n",
       "\n",
       "       [[ 0.04741639, -0.00940502, -0.04562334, ...,  0.03503733,\n",
       "          0.01166462, -0.02930204],\n",
       "        [ 0.01546956,  0.04282228,  0.04249137, ..., -0.00898057,\n",
       "         -0.04610646, -0.00930706],\n",
       "        [ 0.02267959, -0.01066791, -0.04887934, ...,  0.04985351,\n",
       "          0.03978652,  0.02882529],\n",
       "        ...,\n",
       "        [-0.04850371, -0.03851295,  0.04354832, ..., -0.03064987,\n",
       "         -0.01444421, -0.00504403],\n",
       "        [-0.04231831, -0.01111895, -0.00702576, ..., -0.04498795,\n",
       "         -0.02897269,  0.02491013],\n",
       "        [-0.04691173, -0.04677447, -0.04493107, ...,  0.04269328,\n",
       "         -0.00758872,  0.04855387]],\n",
       "\n",
       "       [[ 0.00618888, -0.04281496,  0.04466638, ..., -0.0365059 ,\n",
       "         -0.03269462, -0.04910343],\n",
       "        [-0.00535635,  0.03110682,  0.02593048, ...,  0.00852136,\n",
       "         -0.01876952, -0.03724767],\n",
       "        [ 0.00293303,  0.03873816,  0.0064535 , ...,  0.02167023,\n",
       "         -0.02402377, -0.01453735],\n",
       "        ...,\n",
       "        [-0.04093218, -0.02322242, -0.03683079, ...,  0.04615501,\n",
       "         -0.02766728,  0.02054608],\n",
       "        [-0.02341179,  0.02138653, -0.01706182, ..., -0.0279981 ,\n",
       "         -0.02895342, -0.01036459],\n",
       "        [-0.03808644,  0.04206837, -0.01599778, ..., -0.00556705,\n",
       "          0.01842456,  0.0308514 ]]], dtype=float32)>"
      ]
     },
     "execution_count": 16,
     "metadata": {},
     "output_type": "execute_result"
    }
   ],
   "source": [
    "# Define where to get the data for our embeddings from\n",
    "inputs = embedding_layer(_input_data)\n",
    "inputs"
   ]
  },
  {
   "cell_type": "markdown",
   "metadata": {},
   "source": [
    "<h3>Constructing Recurrent Neural Networks</h3>\n"
   ]
  },
  {
   "cell_type": "markdown",
   "metadata": {
    "button": false,
    "deletable": true,
    "new_sheet": false,
    "run_control": {
     "read_only": false
    }
   },
   "source": [
    "In this step, we create the stacked LSTM using <b>tf.keras.layers.StackedRNNCells</b>, which is a 2 layer LSTM network:\n"
   ]
  },
  {
   "cell_type": "code",
   "execution_count": 17,
   "metadata": {},
   "outputs": [],
   "source": [
    "lstm_cell_l1 = tf.keras.layers.LSTMCell(hidden_size_l1)\n",
    "lstm_cell_l2 = tf.keras.layers.LSTMCell(hidden_size_l2)"
   ]
  },
  {
   "cell_type": "code",
   "execution_count": 18,
   "metadata": {
    "button": false,
    "deletable": true,
    "new_sheet": false,
    "run_control": {
     "read_only": false
    }
   },
   "outputs": [],
   "source": [
    "stacked_lstm = tf.keras.layers.StackedRNNCells([lstm_cell_l1, lstm_cell_l2])"
   ]
  },
  {
   "cell_type": "markdown",
   "metadata": {},
   "source": [
    "<b>tf.keras.layers.RNN</b> creates a recurrent neural network using <b>stacked_lstm</b>.\n",
    "\n",
    "The input should be a Tensor of shape: \\[batch_size, max_time, embedding_vector_size], in our case it would be (30, 20, 200)\n"
   ]
  },
  {
   "cell_type": "code",
   "execution_count": 19,
   "metadata": {},
   "outputs": [],
   "source": [
    "layer  =  tf.keras.layers.RNN(stacked_lstm,[batch_size, num_steps],return_state=False,stateful=True,trainable=True)"
   ]
  },
  {
   "cell_type": "markdown",
   "metadata": {
    "button": false,
    "deletable": true,
    "new_sheet": false,
    "run_control": {
     "read_only": false
    }
   },
   "source": [
    "Also, we initialize the states of the nework:\n",
    "\n",
    "<h4>_initial_state</h4>\n",
    "\n",
    "For each LSTM, there are 2 state matrices, c_state and m_state.  c_state and m_state represent \"Memory State\" and \"Cell State\". Each hidden layer, has a vector of size 30, which keeps the states. so, for 200 hidden units in each LSTM, we have a matrix of size \\[30x200]\n"
   ]
  },
  {
   "cell_type": "code",
   "execution_count": 20,
   "metadata": {},
   "outputs": [],
   "source": [
    "init_state = tf.Variable(tf.zeros([batch_size,embeding_vector_size]),trainable=False)"
   ]
  },
  {
   "cell_type": "code",
   "execution_count": 21,
   "metadata": {},
   "outputs": [],
   "source": [
    "layer.inital_state = init_state"
   ]
  },
  {
   "cell_type": "code",
   "execution_count": 22,
   "metadata": {},
   "outputs": [
    {
     "data": {
      "text/plain": [
       "<tf.Variable 'Variable:0' shape=(30, 200) dtype=float32, numpy=\n",
       "array([[0., 0., 0., ..., 0., 0., 0.],\n",
       "       [0., 0., 0., ..., 0., 0., 0.],\n",
       "       [0., 0., 0., ..., 0., 0., 0.],\n",
       "       ...,\n",
       "       [0., 0., 0., ..., 0., 0., 0.],\n",
       "       [0., 0., 0., ..., 0., 0., 0.],\n",
       "       [0., 0., 0., ..., 0., 0., 0.]], dtype=float32)>"
      ]
     },
     "execution_count": 22,
     "metadata": {},
     "output_type": "execute_result"
    }
   ],
   "source": [
    "layer.inital_state"
   ]
  },
  {
   "cell_type": "markdown",
   "metadata": {},
   "source": [
    "so, lets look at the outputs. The output of the stackedLSTM comes from 128 hidden_layer, and in each time step(=20), one of them get activated. we use the linear activation to map the 128 hidden layer to a \\[30X20 matrix]\n"
   ]
  },
  {
   "cell_type": "code",
   "execution_count": 23,
   "metadata": {},
   "outputs": [],
   "source": [
    "outputs = layer(inputs)"
   ]
  },
  {
   "cell_type": "code",
   "execution_count": 24,
   "metadata": {},
   "outputs": [
    {
     "data": {
      "text/plain": [
       "<tf.Tensor: shape=(30, 20, 128), dtype=float32, numpy=\n",
       "array([[[-7.9900870e-04, -1.3643253e-03, -9.3622791e-04, ...,\n",
       "         -5.9433514e-04,  1.0642806e-03,  1.2772325e-03],\n",
       "        [-1.8588503e-04, -2.0895421e-03, -2.2924242e-03, ...,\n",
       "         -1.6380190e-03,  1.2473203e-03,  8.5618545e-04],\n",
       "        [ 2.8909210e-04, -3.1347603e-03, -1.6774141e-03, ...,\n",
       "         -2.8622388e-03,  1.2076114e-03,  8.8829757e-04],\n",
       "        ...,\n",
       "        [ 2.8017762e-03,  4.6627651e-04,  2.1360100e-04, ...,\n",
       "          3.8085615e-03,  4.9605831e-03,  4.5697689e-03],\n",
       "        [ 4.3163942e-03,  8.5404312e-04,  4.0123143e-04, ...,\n",
       "          2.8817651e-03,  5.0043166e-03,  2.8617564e-03],\n",
       "        [ 5.2230977e-03,  2.5247908e-03, -8.7553554e-04, ...,\n",
       "          1.5960856e-03,  4.0334556e-03,  1.0244246e-03]],\n",
       "\n",
       "       [[ 1.4516730e-03,  4.6866521e-04,  2.2569876e-04, ...,\n",
       "         -1.3894107e-03, -7.3435127e-05, -1.1196616e-03],\n",
       "        [ 2.7702819e-03,  1.8854177e-03,  1.6512381e-03, ...,\n",
       "         -1.6438814e-03, -3.1710597e-04, -2.0988081e-03],\n",
       "        [ 3.2712992e-03,  3.2642845e-03,  2.9097642e-03, ...,\n",
       "         -2.6190481e-03, -1.8844509e-03, -3.0978126e-03],\n",
       "        ...,\n",
       "        [ 1.7800092e-03,  3.2414894e-03,  5.3428672e-04, ...,\n",
       "         -5.7108654e-03,  2.8435385e-03, -5.0941906e-03],\n",
       "        [ 1.2219045e-03,  2.5045660e-03, -7.7046177e-05, ...,\n",
       "         -6.1116284e-03,  2.6665602e-03, -4.6074726e-03],\n",
       "        [ 8.6451083e-04,  9.2327257e-04, -1.1619036e-03, ...,\n",
       "         -6.1289356e-03,  2.4231882e-03, -4.7543305e-03]],\n",
       "\n",
       "       [[-4.0539601e-04,  8.8511972e-04, -6.6117238e-04, ...,\n",
       "         -1.5087068e-04,  1.1630493e-03,  8.9635396e-05],\n",
       "        [-2.4613892e-04,  1.4906294e-03, -1.3192618e-03, ...,\n",
       "          1.3873233e-03,  2.2105833e-03,  7.2377542e-04],\n",
       "        [ 4.9033132e-04,  1.2983872e-03, -1.5132457e-03, ...,\n",
       "          2.0463448e-03,  2.5034365e-03,  1.0628824e-03],\n",
       "        ...,\n",
       "        [ 5.0669569e-03, -1.0699053e-02, -4.1714609e-03, ...,\n",
       "         -6.5320386e-03,  4.5172204e-03, -1.6802376e-03],\n",
       "        [ 4.6288637e-03, -1.0493661e-02, -4.6619363e-03, ...,\n",
       "         -5.8503700e-03,  3.4079005e-03, -2.9805582e-03],\n",
       "        [ 4.2485930e-03, -1.0998152e-02, -4.0064990e-03, ...,\n",
       "         -5.4431977e-03,  2.4889710e-03, -2.0016073e-03]],\n",
       "\n",
       "       ...,\n",
       "\n",
       "       [[-1.5660678e-04,  9.9728699e-04, -2.9078999e-04, ...,\n",
       "          5.3472596e-04, -3.3432586e-04, -7.0758630e-04],\n",
       "        [-6.9597860e-05,  1.2126926e-04, -7.4655778e-05, ...,\n",
       "          7.4497912e-05, -4.6014207e-05, -9.5621444e-04],\n",
       "        [-1.5510852e-03, -5.7447166e-04, -5.2420766e-04, ...,\n",
       "         -8.8501582e-04, -9.6920697e-04, -1.1072655e-03],\n",
       "        ...,\n",
       "        [-5.1110919e-04, -8.2111033e-03,  2.3143608e-03, ...,\n",
       "          1.9676234e-03, -1.5484148e-03, -6.9520748e-03],\n",
       "        [-1.4253028e-04, -9.5072631e-03,  1.2907796e-03, ...,\n",
       "          1.1254364e-03,  1.3090065e-03, -6.2020500e-03],\n",
       "        [-3.2800619e-04, -1.0072647e-02,  5.6533370e-04, ...,\n",
       "         -1.1455963e-03,  3.5173118e-03, -4.9603512e-03]],\n",
       "\n",
       "       [[ 7.5904209e-05,  8.7729000e-05, -2.0677425e-04, ...,\n",
       "          1.5568902e-04,  5.2865979e-04,  1.4865720e-03],\n",
       "        [-6.2186783e-04,  7.1521982e-04, -8.0895086e-05, ...,\n",
       "         -5.7591124e-06,  5.8413943e-04,  2.3185376e-03],\n",
       "        [-3.0082418e-04,  6.0171622e-04,  5.7949233e-05, ...,\n",
       "         -2.1704119e-04,  9.0404111e-04,  2.6129668e-03],\n",
       "        ...,\n",
       "        [-4.6453569e-03, -9.1303717e-03, -1.6055905e-03, ...,\n",
       "          9.3323021e-04, -3.6003729e-03, -3.1020036e-03],\n",
       "        [-3.8317321e-03, -7.3335832e-03,  4.6558297e-04, ...,\n",
       "          7.1519037e-04, -3.9409073e-03, -3.6379830e-03],\n",
       "        [-3.0932140e-03, -6.6425530e-03,  3.2105779e-03, ...,\n",
       "          1.3509011e-03, -4.8164488e-03, -4.0443786e-03]],\n",
       "\n",
       "       [[ 1.0160952e-03, -2.1326174e-04, -1.2089738e-03, ...,\n",
       "         -1.8863162e-04,  1.8025147e-04, -1.2582139e-03],\n",
       "        [ 1.0103433e-03,  5.4824224e-04, -3.3302908e-03, ...,\n",
       "         -3.1577688e-04,  4.4470752e-04, -1.5344298e-03],\n",
       "        [ 2.1804357e-03,  9.6694747e-04, -3.7862377e-03, ...,\n",
       "          4.8941857e-04,  7.3897239e-04,  4.1967680e-04],\n",
       "        ...,\n",
       "        [ 4.8235455e-03,  2.3608319e-03,  1.0797760e-03, ...,\n",
       "         -1.7923360e-03,  7.0435219e-03, -6.6597218e-04],\n",
       "        [ 5.9405505e-03,  1.3146072e-03,  4.9774896e-04, ...,\n",
       "         -2.8777609e-03,  7.8730779e-03, -1.1744677e-03],\n",
       "        [ 6.4027761e-03,  5.3564471e-04, -1.9358037e-04, ...,\n",
       "         -2.7589260e-03,  8.5119959e-03, -1.0603700e-05]]], dtype=float32)>"
      ]
     },
     "execution_count": 24,
     "metadata": {},
     "output_type": "execute_result"
    }
   ],
   "source": [
    "outputs"
   ]
  },
  {
   "cell_type": "markdown",
   "metadata": {
    "button": false,
    "deletable": true,
    "new_sheet": false,
    "run_control": {
     "read_only": false
    }
   },
   "source": [
    "<h2>Dense layer</h2>\n",
    "We now create densely-connected neural network layer that would reshape the outputs tensor from  [30 x 20 x 128] to [30 x 20 x 10000].\n"
   ]
  },
  {
   "cell_type": "code",
   "execution_count": 25,
   "metadata": {},
   "outputs": [],
   "source": [
    "dense = tf.keras.layers.Dense(vocab_size)"
   ]
  },
  {
   "cell_type": "code",
   "execution_count": 26,
   "metadata": {},
   "outputs": [],
   "source": [
    "logits_outputs  = dense(outputs)"
   ]
  },
  {
   "cell_type": "code",
   "execution_count": 27,
   "metadata": {},
   "outputs": [
    {
     "name": "stdout",
     "output_type": "stream",
     "text": [
      "shape of the output from dense layer:  (30, 20, 10000)\n"
     ]
    }
   ],
   "source": [
    "print(\"shape of the output from dense layer: \", logits_outputs.shape) #(batch_size, sequence_length, vocab_size)"
   ]
  },
  {
   "cell_type": "markdown",
   "metadata": {},
   "source": [
    "<h2>Activation layer</h2>\n",
    "\n",
    "A softmax activation layers is also then applied to derive the probability of the output being in any of the multiclass(10000 in this case) possibilities.\n"
   ]
  },
  {
   "cell_type": "code",
   "execution_count": 28,
   "metadata": {},
   "outputs": [],
   "source": [
    "activation = tf.keras.layers.Activation('softmax')"
   ]
  },
  {
   "cell_type": "code",
   "execution_count": 29,
   "metadata": {},
   "outputs": [],
   "source": [
    "output_words_prob = activation(logits_outputs)"
   ]
  },
  {
   "cell_type": "code",
   "execution_count": 30,
   "metadata": {},
   "outputs": [
    {
     "name": "stdout",
     "output_type": "stream",
     "text": [
      "shape of the output from the activation layer:  (30, 20, 10000)\n"
     ]
    }
   ],
   "source": [
    "print(\"shape of the output from the activation layer: \", output_words_prob.shape) #(batch_size, sequence_length, vocab_size)"
   ]
  },
  {
   "cell_type": "markdown",
   "metadata": {},
   "source": [
    "Lets look at the probability of observing words for t=0 to t=20:\n"
   ]
  },
  {
   "cell_type": "code",
   "execution_count": 31,
   "metadata": {},
   "outputs": [
    {
     "name": "stdout",
     "output_type": "stream",
     "text": [
      "The probability of observing words in t=0 to t=20 tf.Tensor(\n",
      "[[9.99974291e-05 9.99909971e-05 1.00003977e-04 ... 1.00012425e-04\n",
      "  9.99691765e-05 1.00007783e-04]\n",
      " [9.99864351e-05 9.99971671e-05 1.00016565e-04 ... 1.00011574e-04\n",
      "  9.99532567e-05 9.99873664e-05]\n",
      " [9.99820550e-05 1.00023164e-04 1.00023950e-04 ... 1.00002457e-04\n",
      "  9.99376862e-05 9.99753611e-05]\n",
      " ...\n",
      " [9.99963813e-05 1.00018944e-04 9.99591430e-05 ... 1.00048172e-04\n",
      "  9.99464828e-05 9.99675685e-05]\n",
      " [1.00002413e-04 1.00036414e-04 9.99769909e-05 ... 1.00051606e-04\n",
      "  9.99538825e-05 9.99733747e-05]\n",
      " [9.99848344e-05 1.00053985e-04 9.99919284e-05 ... 1.00056430e-04\n",
      "  9.99576077e-05 9.99654658e-05]], shape=(20, 10000), dtype=float32)\n"
     ]
    }
   ],
   "source": [
    "print(\"The probability of observing words in t=0 to t=20\", output_words_prob[0,0:num_steps])"
   ]
  },
  {
   "cell_type": "markdown",
   "metadata": {
    "button": false,
    "deletable": true,
    "new_sheet": false,
    "run_control": {
     "read_only": false
    }
   },
   "source": [
    "<h3>Prediction</h3>\n",
    "What is the word correspond to the probability output? Lets use the maximum probability:\n"
   ]
  },
  {
   "cell_type": "code",
   "execution_count": 32,
   "metadata": {},
   "outputs": [
    {
     "data": {
      "text/plain": [
       "array([2654, 2654,   81, 7098, 8878,  424, 8476, 7581, 6197, 7581, 7581,\n",
       "       6197, 6197, 6197, 6478, 3488,  451,  451, 2244, 2244])"
      ]
     },
     "execution_count": 32,
     "metadata": {},
     "output_type": "execute_result"
    }
   ],
   "source": [
    "np.argmax(output_words_prob[0,0:num_steps], axis=1)"
   ]
  },
  {
   "cell_type": "markdown",
   "metadata": {
    "button": false,
    "deletable": true,
    "new_sheet": false,
    "run_control": {
     "read_only": false
    }
   },
   "source": [
    "So, what is the ground truth for the first word of first sentence? You can get it from target tensor, if you want to find the embedding vector:\n"
   ]
  },
  {
   "cell_type": "code",
   "execution_count": 33,
   "metadata": {
    "button": false,
    "deletable": true,
    "new_sheet": false,
    "run_control": {
     "read_only": false
    }
   },
   "outputs": [
    {
     "data": {
      "text/plain": [
       "array([9971, 9972, 9974, 9975, 9976, 9980, 9981, 9982, 9983, 9984, 9986,\n",
       "       9987, 9988, 9989, 9991, 9992, 9993, 9994, 9995, 9996], dtype=int32)"
      ]
     },
     "execution_count": 33,
     "metadata": {},
     "output_type": "execute_result"
    }
   ],
   "source": [
    "_targets[0]"
   ]
  },
  {
   "cell_type": "markdown",
   "metadata": {
    "button": false,
    "new_sheet": false,
    "run_control": {
     "read_only": false
    }
   },
   "source": [
    "<h4>Objective function</h4>\n",
    "\n",
    "How similar the predicted words are to the target words?\n",
    "\n",
    "Now we have to define our objective function, to calculate the similarity of predicted values to ground truth, and then, penalize the model with the error. Our objective is to minimize loss function, that is, to minimize the average negative log probability of the target words:\n",
    "\n",
    "$$\\text{loss} = -\\frac{1}{N}\\sum\\_{i=1}^{N} \\ln p\\_{\\text{target}\\_i}$$\n",
    "\n",
    "This function is already implemented and available in TensorFlow through *tf.keras.losses.sparse_categorical_crossentropy*. It calculates the categorical cross-entropy loss for <b>logits</b> and the <b>target</b> sequence.\n",
    "\n",
    "The arguments of this function are:\n",
    "\n",
    "<ul>\n",
    "    <li>logits: List of 2D Tensors of shape [batch_size x num_decoder_symbols].</li>  \n",
    "    <li>targets: List of 1D batch-sized int32 Tensors of the same length as logits.</li>   \n",
    "</ul>\n"
   ]
  },
  {
   "cell_type": "code",
   "execution_count": 34,
   "metadata": {},
   "outputs": [],
   "source": [
    "def crossentropy(y_true, y_pred):\n",
    "    return tf.keras.losses.sparse_categorical_crossentropy(y_true, y_pred)"
   ]
  },
  {
   "cell_type": "code",
   "execution_count": 35,
   "metadata": {},
   "outputs": [],
   "source": [
    "loss  = crossentropy(_targets, output_words_prob)"
   ]
  },
  {
   "cell_type": "markdown",
   "metadata": {
    "button": false,
    "new_sheet": false,
    "run_control": {
     "read_only": false
    }
   },
   "source": [
    "Lets look at the first 10 values of loss:\n"
   ]
  },
  {
   "cell_type": "code",
   "execution_count": 36,
   "metadata": {},
   "outputs": [
    {
     "data": {
      "text/plain": [
       "<tf.Tensor: shape=(10,), dtype=float32, numpy=\n",
       "array([9.210201, 9.210385, 9.210609, 9.210871, 9.209978, 9.209766,\n",
       "       9.210246, 9.211148, 9.209637, 9.210651], dtype=float32)>"
      ]
     },
     "execution_count": 36,
     "metadata": {},
     "output_type": "execute_result"
    }
   ],
   "source": [
    "loss[0,:10]"
   ]
  },
  {
   "cell_type": "markdown",
   "metadata": {},
   "source": [
    "Now, we define cost as average of the losses:\n"
   ]
  },
  {
   "cell_type": "code",
   "execution_count": 37,
   "metadata": {},
   "outputs": [
    {
     "data": {
      "text/plain": [
       "<tf.Tensor: shape=(), dtype=float32, numpy=184.20631>"
      ]
     },
     "execution_count": 37,
     "metadata": {},
     "output_type": "execute_result"
    }
   ],
   "source": [
    "cost = tf.reduce_sum(loss / batch_size)\n",
    "cost"
   ]
  },
  {
   "cell_type": "markdown",
   "metadata": {
    "button": false,
    "deletable": true,
    "new_sheet": false,
    "run_control": {
     "read_only": false
    }
   },
   "source": [
    "<h3>Training</h3>\n",
    "\n",
    "To do training for our network, we have to take the following steps:\n",
    "\n",
    "<ol>\n",
    "    <li>Define the optimizer.</li>\n",
    "    <li>Assemble layers to build model.</li>\n",
    "    <li>Calculate the gradients based on the loss function.</li>\n",
    "    <li>Apply the optimizer to the variables/gradients tuple.</li>\n",
    "</ol>\n"
   ]
  },
  {
   "cell_type": "markdown",
   "metadata": {
    "button": false,
    "deletable": true,
    "new_sheet": false,
    "run_control": {
     "read_only": false
    }
   },
   "source": [
    "<h4>1. Define Optimizer</h4>\n"
   ]
  },
  {
   "cell_type": "code",
   "execution_count": 38,
   "metadata": {},
   "outputs": [],
   "source": [
    "# Create a variable for the learning rate\n",
    "lr = tf.Variable(0.0, trainable=False)\n",
    "optimizer = tf.keras.optimizers.SGD(lr=lr, clipnorm=max_grad_norm)"
   ]
  },
  {
   "cell_type": "markdown",
   "metadata": {},
   "source": [
    "<h4>2. Assemble layers to build model.</h4>\n"
   ]
  },
  {
   "cell_type": "code",
   "execution_count": 39,
   "metadata": {},
   "outputs": [
    {
     "name": "stdout",
     "output_type": "stream",
     "text": [
      "Model: \"sequential\"\n",
      "_________________________________________________________________\n",
      " Layer (type)                Output Shape              Param #   \n",
      "=================================================================\n",
      " embedding_vocab (Embedding)  (30, 20, 200)            2000000   \n",
      "                                                                 \n",
      " rnn (RNN)                   (30, 20, 128)             671088    \n",
      "                                                                 \n",
      " dense (Dense)               (30, 20, 10000)           1290000   \n",
      "                                                                 \n",
      " activation (Activation)     (30, 20, 10000)           0         \n",
      "                                                                 \n",
      "=================================================================\n",
      "Total params: 3,961,088\n",
      "Trainable params: 3,955,088\n",
      "Non-trainable params: 6,000\n",
      "_________________________________________________________________\n"
     ]
    }
   ],
   "source": [
    "model = tf.keras.Sequential()\n",
    "model.add(embedding_layer)\n",
    "model.add(layer)\n",
    "model.add(dense)\n",
    "model.add(activation)\n",
    "model.compile(loss=crossentropy, optimizer=optimizer)\n",
    "model.summary()"
   ]
  },
  {
   "cell_type": "markdown",
   "metadata": {
    "button": false,
    "new_sheet": false,
    "run_control": {
     "read_only": false
    }
   },
   "source": [
    "<h4>2. Trainable Variables</h4>\n"
   ]
  },
  {
   "cell_type": "markdown",
   "metadata": {
    "button": false,
    "new_sheet": false,
    "run_control": {
     "read_only": false
    }
   },
   "source": [
    "Defining a variable, if you passed <i>trainable=True</i>, the variable constructor automatically adds new variables to the graph collection <b>GraphKeys.TRAINABLE_VARIABLES</b>. Now, using <i>tf.trainable_variables()</i> you can get all variables created with <b>trainable=True</b>.\n"
   ]
  },
  {
   "cell_type": "code",
   "execution_count": 40,
   "metadata": {
    "button": false,
    "new_sheet": false,
    "run_control": {
     "read_only": false
    }
   },
   "outputs": [],
   "source": [
    "# Get all TensorFlow variables marked as \"trainable\" (i.e. all of them except _lr, which we just created)\n",
    "tvars = model.trainable_variables"
   ]
  },
  {
   "cell_type": "markdown",
   "metadata": {
    "button": false,
    "new_sheet": false,
    "run_control": {
     "read_only": false
    }
   },
   "source": [
    "Note: we can find the name and scope of all variables:\n"
   ]
  },
  {
   "cell_type": "code",
   "execution_count": 41,
   "metadata": {
    "button": false,
    "new_sheet": false,
    "run_control": {
     "read_only": false
    }
   },
   "outputs": [
    {
     "data": {
      "text/plain": [
       "['embedding_vocab/embeddings:0',\n",
       " 'rnn/stacked_rnn_cells/lstm_cell/kernel:0',\n",
       " 'rnn/stacked_rnn_cells/lstm_cell/recurrent_kernel:0',\n",
       " 'rnn/stacked_rnn_cells/lstm_cell/bias:0',\n",
       " 'rnn/stacked_rnn_cells/lstm_cell_1/kernel:0',\n",
       " 'rnn/stacked_rnn_cells/lstm_cell_1/recurrent_kernel:0',\n",
       " 'rnn/stacked_rnn_cells/lstm_cell_1/bias:0',\n",
       " 'dense/kernel:0',\n",
       " 'dense/bias:0']"
      ]
     },
     "execution_count": 41,
     "metadata": {},
     "output_type": "execute_result"
    }
   ],
   "source": [
    "[v.name for v in tvars] "
   ]
  },
  {
   "cell_type": "markdown",
   "metadata": {
    "button": false,
    "new_sheet": false,
    "run_control": {
     "read_only": false
    }
   },
   "source": [
    "<h4>3. Calculate the gradients based on the loss function</h4>\n"
   ]
  },
  {
   "cell_type": "markdown",
   "metadata": {
    "button": false,
    "deletable": true,
    "new_sheet": false,
    "run_control": {
     "read_only": false
    }
   },
   "source": [
    "**Gradient**: The gradient of a function is the slope of its derivative (line), or in other words, the rate of change of a function. It's a vector (a direction to move) that points in the direction of greatest increase of the function, and calculated by the <b>derivative</b> operation.\n"
   ]
  },
  {
   "cell_type": "markdown",
   "metadata": {},
   "source": [
    "First lets recall the gradient function using an toy example:\n",
    "$$ z = \\left(2x^2 + 3xy\\right)$$\n"
   ]
  },
  {
   "cell_type": "code",
   "execution_count": 42,
   "metadata": {},
   "outputs": [],
   "source": [
    "x = tf.constant(1.0)\n",
    "y =  tf.constant(2.0)\n",
    "with tf.GradientTape(persistent=True) as g:\n",
    "    g.watch(x)\n",
    "    g.watch(y)\n",
    "    func_test = 2 * x * x + 3 * x * y"
   ]
  },
  {
   "cell_type": "markdown",
   "metadata": {},
   "source": [
    "The <b>tf.gradients()</b> function allows you to compute the symbolic gradient of one tensor with respect to one or more other tensors—including variables. <b>tf.gradients(func, xs)</b> constructs symbolic partial derivatives of sum of <b>func</b> w\\.r.t. <i>x</i> in <b>xs</b>.\n",
    "\n",
    "Now, lets look at the derivitive w\\.r.t. <b>var_x</b>:\n",
    "$$ \\frac{\\partial :}{\\partial \\:x}\\left(2x^2 + 3xy\\right) = 4x + 3y $$\n"
   ]
  },
  {
   "cell_type": "code",
   "execution_count": 43,
   "metadata": {},
   "outputs": [
    {
     "name": "stdout",
     "output_type": "stream",
     "text": [
      "tf.Tensor(10.0, shape=(), dtype=float32)\n"
     ]
    }
   ],
   "source": [
    "var_grad = g.gradient(func_test, x) # Will compute to 10.0\n",
    "print(var_grad)"
   ]
  },
  {
   "cell_type": "markdown",
   "metadata": {},
   "source": [
    "the derivative w\\.r.t. <b>var_y</b>:\n",
    "$$ \\frac{\\partial :}{\\partial \\:y}\\left(2x^2 + 3xy\\right) = 3x $$\n"
   ]
  },
  {
   "cell_type": "code",
   "execution_count": 44,
   "metadata": {},
   "outputs": [
    {
     "name": "stdout",
     "output_type": "stream",
     "text": [
      "tf.Tensor(3.0, shape=(), dtype=float32)\n"
     ]
    }
   ],
   "source": [
    "var_grad = g.gradient(func_test, y) # Will compute to 3.0\n",
    "print(var_grad)"
   ]
  },
  {
   "cell_type": "markdown",
   "metadata": {},
   "source": [
    "Now, we can look at gradients w\\.r.t all variables:\n"
   ]
  },
  {
   "cell_type": "code",
   "execution_count": 45,
   "metadata": {},
   "outputs": [],
   "source": [
    "with tf.GradientTape() as tape:\n",
    "    # Forward pass.\n",
    "    output_words_prob = model(_input_data)\n",
    "    # Loss value for this batch.\n",
    "    loss  = crossentropy(_targets, output_words_prob)\n",
    "    cost = tf.reduce_sum(loss,axis=0) / batch_size"
   ]
  },
  {
   "cell_type": "code",
   "execution_count": 46,
   "metadata": {},
   "outputs": [],
   "source": [
    "# Get gradients of loss wrt the trainable variables.\n",
    "grad_t_list = tape.gradient(cost, tvars)"
   ]
  },
  {
   "cell_type": "code",
   "execution_count": 47,
   "metadata": {},
   "outputs": [
    {
     "name": "stdout",
     "output_type": "stream",
     "text": [
      "[<tensorflow.python.framework.indexed_slices.IndexedSlices object at 0x7f844ddebad0>, <tf.Tensor: shape=(200, 1024), dtype=float32, numpy=\n",
      "array([[ 3.3443922e-07, -5.4191185e-07, -8.6388290e-08, ...,\n",
      "         8.8857590e-08, -2.1494603e-07, -3.4817901e-07],\n",
      "       [ 7.1086123e-07,  5.5186490e-07, -7.8156191e-08, ...,\n",
      "         3.9003820e-07,  1.8492611e-07, -3.5127081e-07],\n",
      "       [ 2.4125575e-07,  6.3936744e-07,  2.8250395e-07, ...,\n",
      "         8.4284309e-08, -1.4510138e-07,  2.5039307e-07],\n",
      "       ...,\n",
      "       [-1.8160628e-07, -2.4175861e-07,  1.3525939e-06, ...,\n",
      "        -5.0158786e-07, -2.8687460e-08,  1.9196170e-07],\n",
      "       [-1.4005421e-07, -5.1766131e-07,  6.0038184e-07, ...,\n",
      "        -2.2865082e-07, -1.3686007e-07, -7.8490608e-08],\n",
      "       [ 2.7166897e-07,  8.1032340e-07,  4.6383232e-07, ...,\n",
      "        -1.9537961e-07,  1.3327195e-07, -6.2362511e-07]], dtype=float32)>, <tf.Tensor: shape=(256, 1024), dtype=float32, numpy=\n",
      "array([[-2.9184296e-08, -2.7588642e-08,  8.3595090e-08, ...,\n",
      "        -8.9021817e-08,  3.7542517e-08,  2.7655787e-08],\n",
      "       [-6.2011885e-08, -1.4088046e-07,  5.4397518e-08, ...,\n",
      "        -4.0276756e-08, -2.1691850e-08, -7.3757917e-08],\n",
      "       [-2.3699448e-08, -1.3689402e-07,  1.2618835e-07, ...,\n",
      "        -4.6624592e-08, -2.9325756e-08, -8.6397904e-08],\n",
      "       ...,\n",
      "       [ 2.3483804e-07,  1.2731527e-07, -1.1933511e-07, ...,\n",
      "         3.3856672e-08, -2.6341999e-07,  1.3441206e-07],\n",
      "       [ 5.9914186e-08, -1.4397166e-08, -5.5237582e-08, ...,\n",
      "        -6.1060828e-09,  2.9543716e-07,  5.2114615e-08],\n",
      "       [-9.0594568e-08, -9.1945687e-09,  3.0160280e-08, ...,\n",
      "        -1.1038913e-07, -2.3119561e-08,  2.2083353e-07]], dtype=float32)>, <tf.Tensor: shape=(1024,), dtype=float32, numpy=\n",
      "array([ 3.2185686e-05, -1.1857210e-05, -1.4335244e-05, ...,\n",
      "       -8.6194595e-06, -1.8691131e-05,  8.1434118e-06], dtype=float32)>, <tf.Tensor: shape=(256, 512), dtype=float32, numpy=\n",
      "array([[ 2.39859954e-08, -2.34879025e-07, -1.11100562e-07, ...,\n",
      "         2.97089173e-07, -9.99841134e-08, -3.73018878e-08],\n",
      "       [-4.41588952e-08,  6.27605274e-08, -3.84993655e-08, ...,\n",
      "        -1.78131828e-07,  9.92896787e-09, -3.20591312e-07],\n",
      "       [-3.14132222e-08,  9.28439050e-08, -8.20394419e-09, ...,\n",
      "         1.57084784e-07, -3.62350292e-08, -2.24537814e-07],\n",
      "       ...,\n",
      "       [-2.57872415e-07, -4.71745295e-07,  1.42600385e-07, ...,\n",
      "        -2.82418341e-07,  1.99254472e-07,  2.61023203e-09],\n",
      "       [-1.10056000e-08,  1.36485951e-08,  1.32014037e-07, ...,\n",
      "        -4.10536813e-08,  5.16671946e-07,  4.63699564e-07],\n",
      "       [-1.77155513e-07, -1.44778738e-07, -1.13010564e-07, ...,\n",
      "         2.26647643e-08,  2.88230780e-07,  2.08657170e-07]], dtype=float32)>, <tf.Tensor: shape=(128, 512), dtype=float32, numpy=\n",
      "array([[-5.56218858e-08,  1.27740137e-07, -5.94061049e-08, ...,\n",
      "         6.13680982e-08,  5.72906451e-08,  1.54148942e-08],\n",
      "       [ 1.48413037e-07,  5.06811261e-07, -5.06310514e-08, ...,\n",
      "         3.17954907e-08, -6.62611370e-08,  4.11754897e-08],\n",
      "       [ 5.69825787e-08,  1.30600981e-07, -1.92488301e-07, ...,\n",
      "         1.29142364e-07, -1.22909810e-07, -2.44999541e-07],\n",
      "       ...,\n",
      "       [-4.31896083e-08, -4.77095270e-08, -3.06124832e-08, ...,\n",
      "        -2.01382051e-07, -1.03658401e-07,  1.15580221e-08],\n",
      "       [-3.11731085e-08, -1.16601555e-07,  1.23480646e-07, ...,\n",
      "        -7.79866340e-08,  3.89595641e-07,  4.29482498e-07],\n",
      "       [ 3.00401766e-08, -6.67621407e-08, -3.04861061e-08, ...,\n",
      "        -1.32841492e-07,  4.71023540e-08,  4.13471895e-07]], dtype=float32)>, <tf.Tensor: shape=(512,), dtype=float32, numpy=\n",
      "array([-2.55406594e-05, -2.06269324e-05,  2.72306133e-05, -7.47432750e-06,\n",
      "       -5.67881470e-05,  1.47781611e-06, -9.59422978e-05, -1.15365810e-05,\n",
      "        2.20471284e-05, -3.18118873e-05, -2.32218918e-05,  3.17954073e-06,\n",
      "       -1.05182735e-05,  1.18531807e-05,  6.36289633e-06, -4.86235585e-05,\n",
      "        9.43714440e-06,  7.86784221e-06, -3.05299473e-05, -3.73810035e-05,\n",
      "        4.28662170e-05,  1.88867380e-05, -1.42983517e-05, -2.27266100e-05,\n",
      "       -9.49567220e-06,  1.90583687e-05,  8.93778179e-06, -7.94125299e-08,\n",
      "       -4.62385906e-05,  1.91704748e-05, -3.62510546e-05,  1.14262521e-05,\n",
      "        2.80718541e-05,  8.81022061e-06, -2.13920684e-05,  6.08871924e-05,\n",
      "       -3.42479052e-06, -3.77260512e-05, -1.79681756e-05,  2.79875894e-05,\n",
      "       -5.15187603e-05, -4.29546071e-06,  7.44847512e-06, -9.53355993e-05,\n",
      "       -1.07526021e-05, -1.76531357e-05, -1.24763155e-05, -3.41191517e-05,\n",
      "        2.49421919e-05, -2.45250658e-06, -4.56794733e-05, -5.73084762e-05,\n",
      "       -5.97038015e-05, -4.88207988e-05, -1.65206275e-05, -4.22208359e-05,\n",
      "       -3.69123845e-05, -1.13927945e-06, -4.36755872e-05,  1.24235550e-04,\n",
      "       -1.63211862e-05, -1.82575131e-05,  6.28311100e-05, -5.48641619e-05,\n",
      "        6.58763747e-05,  2.68619951e-05,  2.84088783e-05,  1.73839708e-05,\n",
      "        9.65892905e-05,  5.16669315e-05,  3.71951683e-05, -1.50253227e-05,\n",
      "       -1.76477988e-05,  3.66767090e-05,  2.72115740e-05,  8.57525492e-07,\n",
      "       -4.14386304e-05,  4.21610057e-05, -5.77669198e-07, -3.87090404e-05,\n",
      "        5.58819629e-05, -4.08947089e-05,  1.37184361e-05,  2.90848693e-05,\n",
      "       -8.58385283e-06,  2.19259164e-05, -1.59865231e-05,  9.26273788e-06,\n",
      "        9.75217881e-06, -3.21601547e-05, -1.93265296e-05, -3.49938855e-05,\n",
      "       -6.35276274e-06,  6.47247070e-05, -3.45326953e-05,  8.46348557e-05,\n",
      "       -8.40781377e-06, -4.38968436e-06, -5.47277341e-05,  4.26462830e-05,\n",
      "        8.16657939e-06, -2.40357731e-05,  9.25420136e-06,  2.86894774e-05,\n",
      "        4.30766522e-05, -3.91572394e-05, -1.42852468e-05, -5.41334884e-05,\n",
      "        5.93606137e-06, -1.17920636e-05, -5.46038355e-05, -3.13121964e-05,\n",
      "       -3.43898841e-06, -9.28291047e-05, -6.67241256e-05,  2.80936001e-05,\n",
      "       -8.43406269e-06, -4.48213177e-05, -1.20703771e-05,  8.39834775e-06,\n",
      "        3.37513620e-06,  2.49800305e-05,  4.38201569e-05, -1.20868819e-04,\n",
      "        3.07962982e-05,  1.20434179e-05,  2.50998164e-06,  3.73161529e-05,\n",
      "       -2.46697855e-05, -4.01086327e-05,  1.31335792e-05, -5.91434627e-06,\n",
      "       -3.15987709e-05,  1.18398020e-07, -1.19933655e-04, -2.28055487e-05,\n",
      "        3.49688235e-05, -5.31258484e-05, -5.96428617e-05, -1.00630723e-05,\n",
      "       -3.49538436e-06,  4.66692945e-05,  1.79262906e-06, -4.59572693e-05,\n",
      "        4.02027581e-05,  1.18724911e-05, -5.04127020e-05, -6.27388363e-05,\n",
      "        7.33244087e-05,  9.60303623e-08, -1.74380257e-05, -4.12235204e-05,\n",
      "       -1.58109069e-05,  3.47180649e-05, -5.85298721e-06, -2.71356748e-05,\n",
      "       -6.22534135e-05,  8.05612672e-06, -4.82430187e-05,  1.94720287e-05,\n",
      "        5.88133153e-05,  1.76200883e-05, -2.80706408e-05,  7.55988658e-05,\n",
      "       -2.33299716e-07, -5.95617639e-05, -3.32433956e-05,  5.54783837e-05,\n",
      "       -9.98343385e-05,  3.60445847e-06, -7.87771933e-06, -1.19996635e-04,\n",
      "        5.22053870e-06, -1.78397622e-05, -2.15454729e-05, -5.26418953e-05,\n",
      "        1.63873210e-05, -9.46277760e-06, -6.36710174e-05, -9.40995596e-05,\n",
      "       -8.50145443e-05, -5.36242405e-05,  1.12186690e-05, -8.93091201e-05,\n",
      "       -2.86200575e-05, -4.03536251e-06, -4.00769895e-05,  1.83727825e-04,\n",
      "       -4.40001168e-05, -2.10493890e-05,  9.32507246e-05, -5.96187238e-05,\n",
      "        1.16981006e-04,  7.67151596e-06,  7.50709205e-06, -1.34852471e-05,\n",
      "        1.17337288e-04,  5.81080822e-05,  3.72651084e-05, -1.41961482e-05,\n",
      "       -2.42757178e-05,  3.49711536e-06,  5.21517650e-05, -1.39400208e-05,\n",
      "       -8.79376094e-05,  6.85774939e-05, -1.38783198e-05, -3.34757970e-05,\n",
      "        6.20330538e-05, -2.08734546e-05,  4.26458282e-05,  2.41661146e-05,\n",
      "       -1.33370850e-06,  3.23038512e-06, -2.52781283e-05,  5.13024679e-06,\n",
      "        1.04700648e-05, -4.40580261e-05, -3.22297674e-05, -4.92496692e-05,\n",
      "        3.65325332e-06,  9.12509568e-05, -3.63043255e-05,  1.46672552e-04,\n",
      "       -5.30027100e-05, -8.80900916e-06, -9.13308686e-05,  5.07168807e-05,\n",
      "        2.64268829e-06, -6.51406008e-05,  6.20954233e-06,  3.96639844e-05,\n",
      "        8.19755151e-05, -2.92231489e-05, -3.41057103e-06, -6.92087633e-05,\n",
      "        1.37476272e-05, -1.80572697e-05, -7.09887827e-05, -4.40479453e-05,\n",
      "        9.98280757e-06, -9.05102497e-05, -1.22424797e-04,  3.62811734e-05,\n",
      "       -1.22481688e-05, -5.79783227e-05, -2.68775420e-06, -1.56514798e-05,\n",
      "       -8.02260638e-06,  2.84306334e-05,  7.63968346e-05, -1.69227656e-04,\n",
      "        1.53545443e-05,  5.51772246e-06,  1.29182417e-05,  4.36863447e-05,\n",
      "        2.06543058e-02,  4.38595265e-02, -2.22281050e-02,  1.39529668e-02,\n",
      "        1.97459478e-02,  5.08074425e-02, -4.67694178e-02, -5.01337089e-02,\n",
      "       -3.19984667e-02, -1.26358401e-02,  2.79709846e-02, -5.62330037e-02,\n",
      "       -1.05190440e-03, -3.11602168e-02,  5.31604607e-03, -2.70173661e-02,\n",
      "        3.30487383e-03,  8.98265094e-03, -2.78202444e-02,  2.99225803e-02,\n",
      "       -4.73998562e-02,  9.52410139e-03,  6.17170194e-03, -1.01499446e-02,\n",
      "       -1.66340191e-02,  1.50810303e-02, -3.10997255e-02,  1.05064455e-02,\n",
      "       -1.42017957e-02, -3.14659066e-03, -5.30082285e-02,  4.71046157e-02,\n",
      "        7.71979289e-03, -8.74181837e-03, -2.26908363e-02,  7.49619538e-03,\n",
      "        1.41407410e-02, -3.23512480e-02,  6.22753100e-03, -4.58945259e-02,\n",
      "       -1.68961063e-02,  2.72192024e-02, -1.81475803e-02, -4.40351292e-02,\n",
      "       -2.35630777e-02,  3.23398551e-03,  1.73756890e-02,  7.52941892e-03,\n",
      "        3.27936225e-02, -1.30788330e-03, -3.46304849e-02,  2.76305415e-02,\n",
      "        2.77167298e-02,  9.77449492e-03, -1.61665566e-02,  5.16701788e-02,\n",
      "        4.18790355e-02,  3.21869105e-02,  9.11981054e-03,  3.63985114e-02,\n",
      "       -6.77716583e-02, -1.33228321e-02, -2.92397253e-02, -2.54869610e-02,\n",
      "       -3.58415693e-02, -4.93276212e-03,  2.28448082e-02, -2.35185362e-02,\n",
      "        2.79489178e-02,  3.34000699e-02, -1.55492220e-02,  1.95770599e-02,\n",
      "        4.08412181e-02,  1.23357857e-02, -6.74539730e-02,  1.04607549e-04,\n",
      "       -4.62343916e-02,  5.05339950e-02,  1.48677099e-02, -1.67571530e-02,\n",
      "        6.64503779e-03, -3.69899198e-02,  3.13920081e-02, -1.83633044e-02,\n",
      "        4.16717790e-02,  1.58051793e-02,  2.96818325e-03, -3.95542160e-02,\n",
      "        1.74373947e-02,  5.02224416e-02,  6.54890621e-03, -8.44907388e-03,\n",
      "        9.74881090e-03, -2.90983431e-02,  3.44843790e-03,  6.28573000e-02,\n",
      "       -5.22032706e-03, -3.26945004e-03, -3.12253758e-02,  4.45755720e-02,\n",
      "        4.48475033e-03, -4.54239324e-02, -2.04595458e-02,  4.61481139e-02,\n",
      "        2.00217757e-02,  1.62306596e-02,  4.19827178e-04,  5.96120954e-02,\n",
      "        3.10022235e-02, -1.26248514e-02,  3.26893735e-03,  2.62856204e-02,\n",
      "        1.91790126e-02, -3.49233672e-02,  2.90597379e-02,  4.90122475e-03,\n",
      "       -8.63609463e-03,  3.56345885e-02,  7.71458913e-03,  1.44829033e-02,\n",
      "        9.70399380e-03,  5.34399301e-02,  3.03693097e-02, -8.75244848e-03,\n",
      "        2.59034429e-03, -1.13308458e-02,  1.39980223e-02,  6.48866370e-02,\n",
      "       -2.63739021e-05, -3.05971480e-05,  3.56563905e-05, -9.12987161e-06,\n",
      "       -5.66635317e-05,  4.60051524e-07, -9.72400449e-05, -1.11655872e-05,\n",
      "        2.86988907e-05, -3.62486462e-05, -3.68121327e-05,  2.41070666e-07,\n",
      "       -1.61171156e-05,  1.62083998e-05,  6.00532712e-06, -3.92270667e-05,\n",
      "        1.29905957e-05,  1.12343178e-05, -3.75464042e-05, -4.49718136e-05,\n",
      "        5.50996119e-05,  1.95804787e-05, -1.46344046e-05, -2.41803664e-05,\n",
      "       -1.84535420e-05,  3.05348876e-05, -3.44054388e-06, -1.90641003e-07,\n",
      "       -5.43825845e-05,  1.64594858e-05, -3.50899900e-05,  1.20770383e-05,\n",
      "        4.03038030e-05,  9.94556467e-06, -1.85159533e-05,  6.14647142e-05,\n",
      "       -6.97946143e-06, -4.73226100e-05, -2.91837914e-05,  3.55612501e-05,\n",
      "       -5.02013572e-05, -1.09762686e-06,  4.08237611e-07, -1.05599203e-04,\n",
      "       -7.84526219e-06, -2.25831536e-05, -4.37521521e-06, -3.52530042e-05,\n",
      "        2.64560258e-05,  4.56929774e-06, -4.38332427e-05, -7.02764373e-05,\n",
      "       -6.07287038e-05, -5.59846158e-05, -1.33948197e-05, -6.61055601e-05,\n",
      "       -4.84724878e-05, -2.61363812e-06, -4.74044682e-05,  1.44419231e-04,\n",
      "       -2.13697349e-05, -2.48483047e-05,  7.03222177e-05, -5.39142166e-05,\n",
      "        8.49469361e-05,  2.93708072e-05,  2.94175461e-05,  2.90743592e-05,\n",
      "        1.10412715e-04,  5.02828334e-05,  4.08784981e-05, -1.56138194e-05,\n",
      "       -1.37509314e-05,  3.32180171e-05,  2.93796838e-05, -1.14249815e-06,\n",
      "       -4.96091598e-05,  5.03134652e-05,  3.44782620e-07, -4.34778703e-05,\n",
      "        5.47888994e-05, -4.08844571e-05,  1.50249771e-05,  3.30080402e-05,\n",
      "       -1.72192540e-05,  1.46282628e-05, -2.46607960e-05,  1.35623359e-05,\n",
      "        1.13384885e-05, -3.87609107e-05, -2.57563715e-05, -3.83728948e-05,\n",
      "       -6.82885911e-06,  7.75693479e-05, -3.90366040e-05,  9.99640324e-05,\n",
      "       -1.44984569e-05, -9.46475029e-06, -7.35183712e-05,  4.29605279e-05,\n",
      "        1.13974811e-05, -2.98366940e-05,  1.25268907e-05,  3.12227348e-05,\n",
      "        5.08292833e-05, -2.84188936e-05, -1.64345292e-05, -6.58189383e-05,\n",
      "        7.16817431e-06, -1.26010200e-05, -4.92768850e-05, -3.24006178e-05,\n",
      "        5.21676156e-07, -9.87624298e-05, -7.90550403e-05,  2.87654329e-05,\n",
      "       -4.54114343e-07, -4.53656467e-05, -8.83847588e-06,  4.61989839e-06,\n",
      "       -4.16068633e-06,  2.59207918e-05,  5.00544338e-05, -1.42678822e-04,\n",
      "        3.30918119e-05,  1.70052517e-05,  6.27736426e-06,  3.96762844e-05],\n",
      "      dtype=float32)>, <tf.Tensor: shape=(128, 10000), dtype=float32, numpy=\n",
      "array([[-7.8330585e-04, -5.3843076e-05, -1.2813583e-04, ...,\n",
      "         1.0540332e-06,  1.0532636e-06,  1.0530612e-06],\n",
      "       [ 4.7308812e-04,  5.9586106e-04,  6.2453619e-04, ...,\n",
      "        -2.5759623e-06, -2.5779927e-06, -2.5794757e-06],\n",
      "       [ 7.4383209e-04,  1.8471929e-03,  4.6131463e-04, ...,\n",
      "        -1.6852637e-06, -1.6859392e-06, -1.6884846e-06],\n",
      "       ...,\n",
      "       [ 7.0752046e-04,  7.5837562e-04,  4.5110154e-04, ...,\n",
      "        -1.4642202e-06, -1.4638665e-06, -1.4642601e-06],\n",
      "       [-2.6307465e-03, -3.5585188e-03, -3.6445144e-03, ...,\n",
      "         6.9135158e-06,  6.9128769e-06,  6.9165549e-06],\n",
      "       [ 2.6869937e-04, -9.5103029e-04, -3.3618684e-04, ...,\n",
      "        -5.6781255e-07, -5.6994179e-07, -5.6867702e-07]], dtype=float32)>, <tf.Tensor: shape=(10000,), dtype=float32, numpy=\n",
      "array([-0.7979982 , -1.0313312 , -1.0313315 , ...,  0.00199921,\n",
      "        0.00199954,  0.00200049], dtype=float32)>]\n"
     ]
    }
   ],
   "source": [
    "print(grad_t_list)"
   ]
  },
  {
   "cell_type": "markdown",
   "metadata": {
    "button": false,
    "new_sheet": false,
    "run_control": {
     "read_only": false
    }
   },
   "source": [
    "now, we have a list of tensors, t-list. We can use it to find clipped tensors. <b>clip_by_global_norm</b> clips values of multiple tensors by the ratio of the sum of their norms.\n",
    "\n",
    "<b>clip_by_global_norm</b> get <i>t-list</i> as input and returns 2 things:\n",
    "\n",
    "<ul>\n",
    "    <li>a list of clipped tensors, so called <i>list_clipped</i></li> \n",
    "    <li>the global norm (global_norm) of all tensors in t_list</li> \n",
    "</ul>\n"
   ]
  },
  {
   "cell_type": "code",
   "execution_count": 48,
   "metadata": {},
   "outputs": [
    {
     "data": {
      "text/plain": [
       "[<tensorflow.python.framework.indexed_slices.IndexedSlices at 0x7f844ddebb10>,\n",
       " <tf.Tensor: shape=(200, 1024), dtype=float32, numpy=\n",
       " array([[ 3.3443922e-07, -5.4191185e-07, -8.6388290e-08, ...,\n",
       "          8.8857590e-08, -2.1494603e-07, -3.4817901e-07],\n",
       "        [ 7.1086123e-07,  5.5186490e-07, -7.8156191e-08, ...,\n",
       "          3.9003820e-07,  1.8492611e-07, -3.5127081e-07],\n",
       "        [ 2.4125575e-07,  6.3936744e-07,  2.8250395e-07, ...,\n",
       "          8.4284309e-08, -1.4510138e-07,  2.5039307e-07],\n",
       "        ...,\n",
       "        [-1.8160628e-07, -2.4175861e-07,  1.3525939e-06, ...,\n",
       "         -5.0158786e-07, -2.8687460e-08,  1.9196170e-07],\n",
       "        [-1.4005421e-07, -5.1766131e-07,  6.0038184e-07, ...,\n",
       "         -2.2865082e-07, -1.3686007e-07, -7.8490608e-08],\n",
       "        [ 2.7166897e-07,  8.1032340e-07,  4.6383232e-07, ...,\n",
       "         -1.9537961e-07,  1.3327195e-07, -6.2362511e-07]], dtype=float32)>,\n",
       " <tf.Tensor: shape=(256, 1024), dtype=float32, numpy=\n",
       " array([[-2.9184296e-08, -2.7588642e-08,  8.3595090e-08, ...,\n",
       "         -8.9021817e-08,  3.7542517e-08,  2.7655787e-08],\n",
       "        [-6.2011885e-08, -1.4088046e-07,  5.4397518e-08, ...,\n",
       "         -4.0276756e-08, -2.1691850e-08, -7.3757917e-08],\n",
       "        [-2.3699448e-08, -1.3689402e-07,  1.2618835e-07, ...,\n",
       "         -4.6624592e-08, -2.9325756e-08, -8.6397904e-08],\n",
       "        ...,\n",
       "        [ 2.3483804e-07,  1.2731527e-07, -1.1933511e-07, ...,\n",
       "          3.3856672e-08, -2.6341999e-07,  1.3441206e-07],\n",
       "        [ 5.9914186e-08, -1.4397166e-08, -5.5237582e-08, ...,\n",
       "         -6.1060828e-09,  2.9543716e-07,  5.2114615e-08],\n",
       "        [-9.0594568e-08, -9.1945687e-09,  3.0160280e-08, ...,\n",
       "         -1.1038913e-07, -2.3119561e-08,  2.2083353e-07]], dtype=float32)>,\n",
       " <tf.Tensor: shape=(1024,), dtype=float32, numpy=\n",
       " array([ 3.2185686e-05, -1.1857210e-05, -1.4335244e-05, ...,\n",
       "        -8.6194595e-06, -1.8691131e-05,  8.1434118e-06], dtype=float32)>,\n",
       " <tf.Tensor: shape=(256, 512), dtype=float32, numpy=\n",
       " array([[ 2.39859954e-08, -2.34879025e-07, -1.11100562e-07, ...,\n",
       "          2.97089173e-07, -9.99841134e-08, -3.73018878e-08],\n",
       "        [-4.41588952e-08,  6.27605274e-08, -3.84993655e-08, ...,\n",
       "         -1.78131828e-07,  9.92896787e-09, -3.20591312e-07],\n",
       "        [-3.14132222e-08,  9.28439050e-08, -8.20394419e-09, ...,\n",
       "          1.57084784e-07, -3.62350292e-08, -2.24537814e-07],\n",
       "        ...,\n",
       "        [-2.57872415e-07, -4.71745295e-07,  1.42600385e-07, ...,\n",
       "         -2.82418341e-07,  1.99254472e-07,  2.61023203e-09],\n",
       "        [-1.10056000e-08,  1.36485951e-08,  1.32014037e-07, ...,\n",
       "         -4.10536813e-08,  5.16671946e-07,  4.63699564e-07],\n",
       "        [-1.77155513e-07, -1.44778738e-07, -1.13010564e-07, ...,\n",
       "          2.26647643e-08,  2.88230780e-07,  2.08657170e-07]], dtype=float32)>,\n",
       " <tf.Tensor: shape=(128, 512), dtype=float32, numpy=\n",
       " array([[-5.56218858e-08,  1.27740137e-07, -5.94061049e-08, ...,\n",
       "          6.13680982e-08,  5.72906451e-08,  1.54148942e-08],\n",
       "        [ 1.48413037e-07,  5.06811261e-07, -5.06310514e-08, ...,\n",
       "          3.17954907e-08, -6.62611370e-08,  4.11754897e-08],\n",
       "        [ 5.69825787e-08,  1.30600981e-07, -1.92488301e-07, ...,\n",
       "          1.29142364e-07, -1.22909810e-07, -2.44999541e-07],\n",
       "        ...,\n",
       "        [-4.31896083e-08, -4.77095270e-08, -3.06124832e-08, ...,\n",
       "         -2.01382051e-07, -1.03658401e-07,  1.15580221e-08],\n",
       "        [-3.11731085e-08, -1.16601555e-07,  1.23480646e-07, ...,\n",
       "         -7.79866340e-08,  3.89595641e-07,  4.29482498e-07],\n",
       "        [ 3.00401766e-08, -6.67621407e-08, -3.04861061e-08, ...,\n",
       "         -1.32841492e-07,  4.71023540e-08,  4.13471895e-07]], dtype=float32)>,\n",
       " <tf.Tensor: shape=(512,), dtype=float32, numpy=\n",
       " array([-2.55406594e-05, -2.06269324e-05,  2.72306133e-05, -7.47432750e-06,\n",
       "        -5.67881470e-05,  1.47781611e-06, -9.59422978e-05, -1.15365810e-05,\n",
       "         2.20471284e-05, -3.18118873e-05, -2.32218918e-05,  3.17954073e-06,\n",
       "        -1.05182735e-05,  1.18531807e-05,  6.36289633e-06, -4.86235585e-05,\n",
       "         9.43714440e-06,  7.86784221e-06, -3.05299473e-05, -3.73810035e-05,\n",
       "         4.28662170e-05,  1.88867380e-05, -1.42983517e-05, -2.27266100e-05,\n",
       "        -9.49567220e-06,  1.90583687e-05,  8.93778179e-06, -7.94125299e-08,\n",
       "        -4.62385906e-05,  1.91704748e-05, -3.62510546e-05,  1.14262521e-05,\n",
       "         2.80718541e-05,  8.81022061e-06, -2.13920684e-05,  6.08871924e-05,\n",
       "        -3.42479052e-06, -3.77260512e-05, -1.79681756e-05,  2.79875894e-05,\n",
       "        -5.15187603e-05, -4.29546071e-06,  7.44847512e-06, -9.53355993e-05,\n",
       "        -1.07526021e-05, -1.76531357e-05, -1.24763155e-05, -3.41191517e-05,\n",
       "         2.49421919e-05, -2.45250658e-06, -4.56794733e-05, -5.73084762e-05,\n",
       "        -5.97038015e-05, -4.88207988e-05, -1.65206275e-05, -4.22208359e-05,\n",
       "        -3.69123845e-05, -1.13927945e-06, -4.36755872e-05,  1.24235550e-04,\n",
       "        -1.63211862e-05, -1.82575131e-05,  6.28311100e-05, -5.48641619e-05,\n",
       "         6.58763747e-05,  2.68619951e-05,  2.84088783e-05,  1.73839708e-05,\n",
       "         9.65892905e-05,  5.16669315e-05,  3.71951683e-05, -1.50253227e-05,\n",
       "        -1.76477988e-05,  3.66767090e-05,  2.72115740e-05,  8.57525492e-07,\n",
       "        -4.14386304e-05,  4.21610057e-05, -5.77669198e-07, -3.87090404e-05,\n",
       "         5.58819629e-05, -4.08947089e-05,  1.37184361e-05,  2.90848693e-05,\n",
       "        -8.58385283e-06,  2.19259164e-05, -1.59865231e-05,  9.26273788e-06,\n",
       "         9.75217881e-06, -3.21601547e-05, -1.93265296e-05, -3.49938855e-05,\n",
       "        -6.35276274e-06,  6.47247070e-05, -3.45326953e-05,  8.46348557e-05,\n",
       "        -8.40781377e-06, -4.38968436e-06, -5.47277341e-05,  4.26462830e-05,\n",
       "         8.16657939e-06, -2.40357731e-05,  9.25420136e-06,  2.86894774e-05,\n",
       "         4.30766522e-05, -3.91572394e-05, -1.42852468e-05, -5.41334884e-05,\n",
       "         5.93606137e-06, -1.17920636e-05, -5.46038355e-05, -3.13121964e-05,\n",
       "        -3.43898841e-06, -9.28291047e-05, -6.67241256e-05,  2.80936001e-05,\n",
       "        -8.43406269e-06, -4.48213177e-05, -1.20703771e-05,  8.39834775e-06,\n",
       "         3.37513620e-06,  2.49800305e-05,  4.38201569e-05, -1.20868819e-04,\n",
       "         3.07962982e-05,  1.20434179e-05,  2.50998164e-06,  3.73161529e-05,\n",
       "        -2.46697855e-05, -4.01086327e-05,  1.31335792e-05, -5.91434627e-06,\n",
       "        -3.15987709e-05,  1.18398020e-07, -1.19933655e-04, -2.28055487e-05,\n",
       "         3.49688235e-05, -5.31258484e-05, -5.96428617e-05, -1.00630723e-05,\n",
       "        -3.49538436e-06,  4.66692945e-05,  1.79262906e-06, -4.59572693e-05,\n",
       "         4.02027581e-05,  1.18724911e-05, -5.04127020e-05, -6.27388363e-05,\n",
       "         7.33244087e-05,  9.60303623e-08, -1.74380257e-05, -4.12235204e-05,\n",
       "        -1.58109069e-05,  3.47180649e-05, -5.85298721e-06, -2.71356748e-05,\n",
       "        -6.22534135e-05,  8.05612672e-06, -4.82430187e-05,  1.94720287e-05,\n",
       "         5.88133153e-05,  1.76200883e-05, -2.80706408e-05,  7.55988658e-05,\n",
       "        -2.33299716e-07, -5.95617639e-05, -3.32433956e-05,  5.54783837e-05,\n",
       "        -9.98343385e-05,  3.60445847e-06, -7.87771933e-06, -1.19996635e-04,\n",
       "         5.22053870e-06, -1.78397622e-05, -2.15454729e-05, -5.26418953e-05,\n",
       "         1.63873210e-05, -9.46277760e-06, -6.36710174e-05, -9.40995596e-05,\n",
       "        -8.50145443e-05, -5.36242405e-05,  1.12186690e-05, -8.93091201e-05,\n",
       "        -2.86200575e-05, -4.03536251e-06, -4.00769895e-05,  1.83727825e-04,\n",
       "        -4.40001168e-05, -2.10493890e-05,  9.32507246e-05, -5.96187238e-05,\n",
       "         1.16981006e-04,  7.67151596e-06,  7.50709205e-06, -1.34852471e-05,\n",
       "         1.17337288e-04,  5.81080822e-05,  3.72651084e-05, -1.41961482e-05,\n",
       "        -2.42757178e-05,  3.49711536e-06,  5.21517650e-05, -1.39400208e-05,\n",
       "        -8.79376094e-05,  6.85774939e-05, -1.38783198e-05, -3.34757970e-05,\n",
       "         6.20330538e-05, -2.08734546e-05,  4.26458282e-05,  2.41661146e-05,\n",
       "        -1.33370850e-06,  3.23038512e-06, -2.52781283e-05,  5.13024679e-06,\n",
       "         1.04700648e-05, -4.40580261e-05, -3.22297674e-05, -4.92496692e-05,\n",
       "         3.65325332e-06,  9.12509568e-05, -3.63043255e-05,  1.46672552e-04,\n",
       "        -5.30027100e-05, -8.80900916e-06, -9.13308686e-05,  5.07168807e-05,\n",
       "         2.64268829e-06, -6.51406008e-05,  6.20954233e-06,  3.96639844e-05,\n",
       "         8.19755151e-05, -2.92231489e-05, -3.41057103e-06, -6.92087633e-05,\n",
       "         1.37476272e-05, -1.80572697e-05, -7.09887827e-05, -4.40479453e-05,\n",
       "         9.98280757e-06, -9.05102497e-05, -1.22424797e-04,  3.62811734e-05,\n",
       "        -1.22481688e-05, -5.79783227e-05, -2.68775420e-06, -1.56514798e-05,\n",
       "        -8.02260638e-06,  2.84306334e-05,  7.63968346e-05, -1.69227656e-04,\n",
       "         1.53545443e-05,  5.51772246e-06,  1.29182417e-05,  4.36863447e-05,\n",
       "         2.06543058e-02,  4.38595265e-02, -2.22281050e-02,  1.39529668e-02,\n",
       "         1.97459478e-02,  5.08074425e-02, -4.67694178e-02, -5.01337089e-02,\n",
       "        -3.19984667e-02, -1.26358401e-02,  2.79709846e-02, -5.62330037e-02,\n",
       "        -1.05190440e-03, -3.11602168e-02,  5.31604607e-03, -2.70173661e-02,\n",
       "         3.30487383e-03,  8.98265094e-03, -2.78202444e-02,  2.99225803e-02,\n",
       "        -4.73998562e-02,  9.52410139e-03,  6.17170194e-03, -1.01499446e-02,\n",
       "        -1.66340191e-02,  1.50810303e-02, -3.10997255e-02,  1.05064455e-02,\n",
       "        -1.42017957e-02, -3.14659066e-03, -5.30082285e-02,  4.71046157e-02,\n",
       "         7.71979289e-03, -8.74181837e-03, -2.26908363e-02,  7.49619538e-03,\n",
       "         1.41407410e-02, -3.23512480e-02,  6.22753100e-03, -4.58945259e-02,\n",
       "        -1.68961063e-02,  2.72192024e-02, -1.81475803e-02, -4.40351292e-02,\n",
       "        -2.35630777e-02,  3.23398551e-03,  1.73756890e-02,  7.52941892e-03,\n",
       "         3.27936225e-02, -1.30788330e-03, -3.46304849e-02,  2.76305415e-02,\n",
       "         2.77167298e-02,  9.77449492e-03, -1.61665566e-02,  5.16701788e-02,\n",
       "         4.18790355e-02,  3.21869105e-02,  9.11981054e-03,  3.63985114e-02,\n",
       "        -6.77716583e-02, -1.33228321e-02, -2.92397253e-02, -2.54869610e-02,\n",
       "        -3.58415693e-02, -4.93276212e-03,  2.28448082e-02, -2.35185362e-02,\n",
       "         2.79489178e-02,  3.34000699e-02, -1.55492220e-02,  1.95770599e-02,\n",
       "         4.08412181e-02,  1.23357857e-02, -6.74539730e-02,  1.04607549e-04,\n",
       "        -4.62343916e-02,  5.05339950e-02,  1.48677099e-02, -1.67571530e-02,\n",
       "         6.64503779e-03, -3.69899198e-02,  3.13920081e-02, -1.83633044e-02,\n",
       "         4.16717790e-02,  1.58051793e-02,  2.96818325e-03, -3.95542160e-02,\n",
       "         1.74373947e-02,  5.02224416e-02,  6.54890621e-03, -8.44907388e-03,\n",
       "         9.74881090e-03, -2.90983431e-02,  3.44843790e-03,  6.28573000e-02,\n",
       "        -5.22032706e-03, -3.26945004e-03, -3.12253758e-02,  4.45755720e-02,\n",
       "         4.48475033e-03, -4.54239324e-02, -2.04595458e-02,  4.61481139e-02,\n",
       "         2.00217757e-02,  1.62306596e-02,  4.19827178e-04,  5.96120954e-02,\n",
       "         3.10022235e-02, -1.26248514e-02,  3.26893735e-03,  2.62856204e-02,\n",
       "         1.91790126e-02, -3.49233672e-02,  2.90597379e-02,  4.90122475e-03,\n",
       "        -8.63609463e-03,  3.56345885e-02,  7.71458913e-03,  1.44829033e-02,\n",
       "         9.70399380e-03,  5.34399301e-02,  3.03693097e-02, -8.75244848e-03,\n",
       "         2.59034429e-03, -1.13308458e-02,  1.39980223e-02,  6.48866370e-02,\n",
       "        -2.63739021e-05, -3.05971480e-05,  3.56563905e-05, -9.12987161e-06,\n",
       "        -5.66635317e-05,  4.60051524e-07, -9.72400449e-05, -1.11655872e-05,\n",
       "         2.86988907e-05, -3.62486462e-05, -3.68121327e-05,  2.41070666e-07,\n",
       "        -1.61171156e-05,  1.62083998e-05,  6.00532712e-06, -3.92270667e-05,\n",
       "         1.29905957e-05,  1.12343178e-05, -3.75464042e-05, -4.49718136e-05,\n",
       "         5.50996119e-05,  1.95804787e-05, -1.46344046e-05, -2.41803664e-05,\n",
       "        -1.84535420e-05,  3.05348876e-05, -3.44054388e-06, -1.90641003e-07,\n",
       "        -5.43825845e-05,  1.64594858e-05, -3.50899900e-05,  1.20770383e-05,\n",
       "         4.03038030e-05,  9.94556467e-06, -1.85159533e-05,  6.14647142e-05,\n",
       "        -6.97946143e-06, -4.73226100e-05, -2.91837914e-05,  3.55612501e-05,\n",
       "        -5.02013572e-05, -1.09762686e-06,  4.08237611e-07, -1.05599203e-04,\n",
       "        -7.84526219e-06, -2.25831536e-05, -4.37521521e-06, -3.52530042e-05,\n",
       "         2.64560258e-05,  4.56929774e-06, -4.38332427e-05, -7.02764373e-05,\n",
       "        -6.07287038e-05, -5.59846158e-05, -1.33948197e-05, -6.61055601e-05,\n",
       "        -4.84724878e-05, -2.61363812e-06, -4.74044682e-05,  1.44419231e-04,\n",
       "        -2.13697349e-05, -2.48483047e-05,  7.03222177e-05, -5.39142166e-05,\n",
       "         8.49469361e-05,  2.93708072e-05,  2.94175461e-05,  2.90743592e-05,\n",
       "         1.10412715e-04,  5.02828334e-05,  4.08784981e-05, -1.56138194e-05,\n",
       "        -1.37509314e-05,  3.32180171e-05,  2.93796838e-05, -1.14249815e-06,\n",
       "        -4.96091598e-05,  5.03134652e-05,  3.44782620e-07, -4.34778703e-05,\n",
       "         5.47888994e-05, -4.08844571e-05,  1.50249771e-05,  3.30080402e-05,\n",
       "        -1.72192540e-05,  1.46282628e-05, -2.46607960e-05,  1.35623359e-05,\n",
       "         1.13384885e-05, -3.87609107e-05, -2.57563715e-05, -3.83728948e-05,\n",
       "        -6.82885911e-06,  7.75693479e-05, -3.90366040e-05,  9.99640324e-05,\n",
       "        -1.44984569e-05, -9.46475029e-06, -7.35183712e-05,  4.29605279e-05,\n",
       "         1.13974811e-05, -2.98366940e-05,  1.25268907e-05,  3.12227348e-05,\n",
       "         5.08292833e-05, -2.84188936e-05, -1.64345292e-05, -6.58189383e-05,\n",
       "         7.16817431e-06, -1.26010200e-05, -4.92768850e-05, -3.24006178e-05,\n",
       "         5.21676156e-07, -9.87624298e-05, -7.90550403e-05,  2.87654329e-05,\n",
       "        -4.54114343e-07, -4.53656467e-05, -8.83847588e-06,  4.61989839e-06,\n",
       "        -4.16068633e-06,  2.59207918e-05,  5.00544338e-05, -1.42678822e-04,\n",
       "         3.30918119e-05,  1.70052517e-05,  6.27736426e-06,  3.96762844e-05],\n",
       "       dtype=float32)>,\n",
       " <tf.Tensor: shape=(128, 10000), dtype=float32, numpy=\n",
       " array([[-7.8330585e-04, -5.3843076e-05, -1.2813583e-04, ...,\n",
       "          1.0540332e-06,  1.0532636e-06,  1.0530612e-06],\n",
       "        [ 4.7308812e-04,  5.9586106e-04,  6.2453619e-04, ...,\n",
       "         -2.5759623e-06, -2.5779927e-06, -2.5794757e-06],\n",
       "        [ 7.4383209e-04,  1.8471929e-03,  4.6131463e-04, ...,\n",
       "         -1.6852637e-06, -1.6859392e-06, -1.6884846e-06],\n",
       "        ...,\n",
       "        [ 7.0752046e-04,  7.5837562e-04,  4.5110154e-04, ...,\n",
       "         -1.4642202e-06, -1.4638665e-06, -1.4642601e-06],\n",
       "        [-2.6307465e-03, -3.5585188e-03, -3.6445144e-03, ...,\n",
       "          6.9135158e-06,  6.9128769e-06,  6.9165549e-06],\n",
       "        [ 2.6869937e-04, -9.5103029e-04, -3.3618684e-04, ...,\n",
       "         -5.6781255e-07, -5.6994179e-07, -5.6867702e-07]], dtype=float32)>,\n",
       " <tf.Tensor: shape=(10000,), dtype=float32, numpy=\n",
       " array([-0.7979982 , -1.0313312 , -1.0313315 , ...,  0.00199921,\n",
       "         0.00199954,  0.00200049], dtype=float32)>]"
      ]
     },
     "execution_count": 48,
     "metadata": {},
     "output_type": "execute_result"
    }
   ],
   "source": [
    "# Define the gradient clipping threshold\n",
    "grads, _ = tf.clip_by_global_norm(grad_t_list, max_grad_norm)\n",
    "grads"
   ]
  },
  {
   "cell_type": "markdown",
   "metadata": {},
   "source": [
    "<h4> 4.Apply the optimizer to the variables/gradients tuple. </h4>\n"
   ]
  },
  {
   "cell_type": "code",
   "execution_count": 49,
   "metadata": {},
   "outputs": [],
   "source": [
    "# Create the training TensorFlow Operation through our optimizer\n",
    "train_op = optimizer.apply_gradients(zip(grads, tvars))"
   ]
  },
  {
   "cell_type": "markdown",
   "metadata": {},
   "source": [
    "<a id=\"ltsm\"></a>\n",
    "\n",
    "<h2>LSTM</h2>\n"
   ]
  },
  {
   "cell_type": "markdown",
   "metadata": {
    "button": false,
    "deletable": true,
    "new_sheet": false,
    "run_control": {
     "read_only": false
    }
   },
   "source": [
    "We learned how the model is build step by step. Noe, let's then create a Class that represents our model. This class needs a few things:\n",
    "\n",
    "<ul>\n",
    "    <li>We have to create the model in accordance with our defined hyperparameters</li>\n",
    "    <li>We have to create the LSTM cell structure and connect them with our RNN structure</li>\n",
    "    <li>We have to create the word embeddings and point them to the input data</li>\n",
    "    <li>We have to create the input structure for our RNN</li>\n",
    "    <li>We need to create a logistic structure to return the probability of our words</li>\n",
    "    <li>We need to create the loss and cost functions for our optimizer to work, and then create the optimizer</li>\n",
    "    <li>And finally, we need to create a training operation that can be run to actually train our model</li>\n",
    "</ul>\n"
   ]
  },
  {
   "cell_type": "code",
   "execution_count": 50,
   "metadata": {
    "button": false,
    "deletable": true,
    "new_sheet": false,
    "run_control": {
     "read_only": false
    },
    "tags": []
   },
   "outputs": [],
   "source": [
    "class PTBModel(object):\n",
    "\n",
    "\n",
    "    def __init__(self):\n",
    "        ######################################\n",
    "        # Setting parameters for ease of use #\n",
    "        ######################################\n",
    "        self.batch_size = batch_size\n",
    "        self.num_steps = num_steps\n",
    "        self.hidden_size_l1 = hidden_size_l1\n",
    "        self.hidden_size_l2 = hidden_size_l2\n",
    "        self.vocab_size = vocab_size\n",
    "        self.embeding_vector_size = embeding_vector_size\n",
    "        # Create a variable for the learning rate\n",
    "        self._lr = 1.0\n",
    "        \n",
    "        ###############################################################################\n",
    "        # Initializing the model using keras Sequential API  #\n",
    "        ###############################################################################\n",
    "        \n",
    "        self._model = tf.keras.models.Sequential()\n",
    "        \n",
    "        ####################################################################\n",
    "        # Creating the word embeddings layer and adding it to the sequence #\n",
    "        ####################################################################\n",
    "        with tf.device(\"/cpu:0\"):\n",
    "            # Create the embeddings for our input data. Size is hidden size.\n",
    "            self._embedding_layer = tf.keras.layers.Embedding(self.vocab_size, self.embeding_vector_size,batch_input_shape=(self.batch_size, self.num_steps),trainable=True,name=\"embedding_vocab\")  #[10000x200]\n",
    "            self._model.add(self._embedding_layer)\n",
    "            \n",
    "\n",
    "        ##########################################################################\n",
    "        # Creating the LSTM cell structure and connect it with the RNN structure #\n",
    "        ##########################################################################\n",
    "        # Create the LSTM Cells. \n",
    "        # This creates only the structure for the LSTM and has to be associated with a RNN unit still.\n",
    "        # The argument  of LSTMCell is size of hidden layer, that is, the number of hidden units of the LSTM (inside A). \n",
    "        # LSTM cell processes one word at a time and computes probabilities of the possible continuations of the sentence.\n",
    "        lstm_cell_l1 = tf.keras.layers.LSTMCell(hidden_size_l1)\n",
    "        lstm_cell_l2 = tf.keras.layers.LSTMCell(hidden_size_l2)\n",
    "        \n",
    "\n",
    "        \n",
    "        # By taking in the LSTM cells as parameters, the StackedRNNCells function junctions the LSTM units to the RNN units.\n",
    "        # RNN cell composed sequentially of stacked simple cells.\n",
    "        stacked_lstm = tf.keras.layers.StackedRNNCells([lstm_cell_l1, lstm_cell_l2])\n",
    "\n",
    "\n",
    "        \n",
    "\n",
    "        ############################################\n",
    "        # Creating the input structure for our RNN #\n",
    "        ############################################\n",
    "        # Input structure is 20x[30x200]\n",
    "        # Considering each word is represended by a 200 dimentional vector, and we have 30 batchs, we create 30 word-vectors of size [30xx2000]\n",
    "        # The input structure is fed from the embeddings, which are filled in by the input data\n",
    "        # Feeding a batch of b sentences to a RNN:\n",
    "        # In step 1,  first word of each of the b sentences (in a batch) is input in parallel.  \n",
    "        # In step 2,  second word of each of the b sentences is input in parallel. \n",
    "        # The parallelism is only for efficiency.  \n",
    "        # Each sentence in a batch is handled in parallel, but the network sees one word of a sentence at a time and does the computations accordingly. \n",
    "        # All the computations involving the words of all sentences in a batch at a given time step are done in parallel. \n",
    "\n",
    "        ########################################################################################################\n",
    "        # Instantiating our RNN model and setting stateful to True to feed forward the state to the next layer #\n",
    "        ########################################################################################################\n",
    "        \n",
    "        self._RNNlayer  =  tf.keras.layers.RNN(stacked_lstm,[batch_size, num_steps],return_state=False,stateful=True,trainable=True)\n",
    "        \n",
    "        # Define the initial state, i.e., the model state for the very first data point\n",
    "        # It initialize the state of the LSTM memory. The memory state of the network is initialized with a vector of zeros and gets updated after reading each word.\n",
    "        self._initial_state = tf.Variable(tf.zeros([batch_size,embeding_vector_size]),trainable=False)\n",
    "        self._RNNlayer.inital_state = self._initial_state\n",
    "    \n",
    "        ############################################\n",
    "        # Adding RNN layer to keras sequential API #\n",
    "        ############################################        \n",
    "        self._model.add(self._RNNlayer)\n",
    "        \n",
    "        #self._model.add(tf.keras.layers.LSTM(hidden_size_l1,return_sequences=True,stateful=True))\n",
    "        #self._model.add(tf.keras.layers.LSTM(hidden_size_l2,return_sequences=True))\n",
    "        \n",
    "        \n",
    "        ####################################################################################################\n",
    "        # Instantiating a Dense layer that connects the output to the vocab_size  and adding layer to model#\n",
    "        ####################################################################################################\n",
    "        self._dense = tf.keras.layers.Dense(self.vocab_size)\n",
    "        self._model.add(self._dense)\n",
    " \n",
    "        \n",
    "        ####################################################################################################\n",
    "        # Adding softmax activation layer and deriving probability to each class and adding layer to model #\n",
    "        ####################################################################################################\n",
    "        self._activation = tf.keras.layers.Activation('softmax')\n",
    "        self._model.add(self._activation)\n",
    "\n",
    "        ##########################################################\n",
    "        # Instantiating the stochastic gradient decent optimizer #\n",
    "        ########################################################## \n",
    "        self._optimizer = tf.keras.optimizers.SGD(lr=self._lr, clipnorm=max_grad_norm)\n",
    "        \n",
    "        \n",
    "        ##############################################################################\n",
    "        # Compiling and summarizing the model stacked using the keras sequential API #\n",
    "        ##############################################################################\n",
    "        self._model.compile(loss=self.crossentropy, optimizer=self._optimizer)\n",
    "        self._model.summary()\n",
    "\n",
    "\n",
    "    def crossentropy(self,y_true, y_pred):\n",
    "        return tf.keras.losses.sparse_categorical_crossentropy(y_true, y_pred)\n",
    "\n",
    "    def train_batch(self,_input_data,_targets):\n",
    "        #################################################\n",
    "        # Creating the Training Operation for our Model #\n",
    "        #################################################\n",
    "        # Create a variable for the learning rate\n",
    "        self._lr = tf.Variable(0.0, trainable=False)\n",
    "        # Get all TensorFlow variables marked as \"trainable\" (i.e. all of them except _lr, which we just created)\n",
    "        tvars = self._model.trainable_variables\n",
    "        # Define the gradient clipping threshold\n",
    "        with tf.GradientTape() as tape:\n",
    "            # Forward pass.\n",
    "            output_words_prob = self._model(_input_data)\n",
    "            # Loss value for this batch.\n",
    "            loss  = self.crossentropy(_targets, output_words_prob)\n",
    "            # average across batch and reduce sum\n",
    "            cost = tf.reduce_sum(loss/ self.batch_size)\n",
    "        # Get gradients of loss wrt the trainable variables.\n",
    "        grad_t_list = tape.gradient(cost, tvars)\n",
    "        # Define the gradient clipping threshold\n",
    "        grads, _ = tf.clip_by_global_norm(grad_t_list, max_grad_norm)\n",
    "        # Create the training TensorFlow Operation through our optimizer\n",
    "        train_op = self._optimizer.apply_gradients(zip(grads, tvars))\n",
    "        return cost\n",
    "        \n",
    "    def test_batch(self,_input_data,_targets):\n",
    "        #################################################\n",
    "        # Creating the Testing Operation for our Model #\n",
    "        #################################################\n",
    "        output_words_prob = self._model(_input_data)\n",
    "        loss  = self.crossentropy(_targets, output_words_prob)\n",
    "        # average across batch and reduce sum\n",
    "        cost = tf.reduce_sum(loss/ self.batch_size)\n",
    "\n",
    "        return cost\n",
    "    @classmethod\n",
    "    def instance(cls) : \n",
    "        return PTBModel()"
   ]
  },
  {
   "cell_type": "markdown",
   "metadata": {
    "button": false,
    "deletable": true,
    "new_sheet": false,
    "run_control": {
     "read_only": false
    }
   },
   "source": [
    "With that, the actual structure of our Recurrent Neural Network with Long Short-Term Memory is finished. What remains for us to do is to actually create the methods to run through time -- that is, the <code>run_epoch</code> method to be run at each epoch and a <code>main</code> script which ties all of this together.\n",
    "\n",
    "What our <code>run_epoch</code> method should do is take our input data and feed it to the relevant operations. This will return at the very least the current result for the cost function.\n"
   ]
  },
  {
   "cell_type": "code",
   "execution_count": 51,
   "metadata": {
    "button": false,
    "deletable": true,
    "new_sheet": false,
    "run_control": {
     "read_only": false
    }
   },
   "outputs": [],
   "source": [
    "\n",
    "########################################################################################################################\n",
    "# run_one_epoch takes as parameters  the model instance, the data to be fed, training or testing mode and verbose info #\n",
    "########################################################################################################################\n",
    "def run_one_epoch(m, data,is_training=True,verbose=False):\n",
    "\n",
    "    #Define the epoch size based on the length of the data, batch size and the number of steps\n",
    "    epoch_size = ((len(data) // m.batch_size) - 1) // m.num_steps\n",
    "    start_time = time.time()\n",
    "    costs = 0.\n",
    "    iters = 0\n",
    "    \n",
    "    m._model.reset_states()\n",
    "    \n",
    "    #For each step and data point\n",
    "    for step, (x, y) in enumerate(reader.ptb_iterator(data, m.batch_size, m.num_steps)):\n",
    "        \n",
    "        #Evaluate and return cost, state by running cost, final_state and the function passed as parameter\n",
    "        #y = tf.keras.utils.to_categorical(y, num_classes=vocab_size)\n",
    "        if is_training : \n",
    "            loss=  m.train_batch(x, y)\n",
    "        else :\n",
    "            loss = m.test_batch(x, y)\n",
    "                                   \n",
    "\n",
    "        #Add returned cost to costs (which keeps track of the total costs for this epoch)\n",
    "        costs += loss\n",
    "        \n",
    "        #Add number of steps to iteration counter\n",
    "        iters += m.num_steps\n",
    "\n",
    "        if verbose and step % (epoch_size // 10) == 10:\n",
    "            print(\"Itr %d of %d, perplexity: %.3f speed: %.0f wps\" % (step , epoch_size, np.exp(costs / iters), iters * m.batch_size / (time.time() - start_time)))\n",
    "        \n",
    "\n",
    "\n",
    "    # Returns the Perplexity rating for us to keep track of how the model is evolving\n",
    "    return np.exp(costs / iters)\n"
   ]
  },
  {
   "cell_type": "markdown",
   "metadata": {
    "button": false,
    "deletable": true,
    "new_sheet": false,
    "run_control": {
     "read_only": false
    }
   },
   "source": [
    "Now, we create the <code>main</code> method to tie everything together. The code here reads the data from the directory, using the <code>reader</code> helper module, and then trains and evaluates the model on both a testing and a validating subset of data.\n"
   ]
  },
  {
   "cell_type": "code",
   "execution_count": 52,
   "metadata": {
    "button": false,
    "deletable": true,
    "new_sheet": false,
    "run_control": {
     "read_only": false
    },
    "tags": []
   },
   "outputs": [],
   "source": [
    "# Reads the data and separates it into training data, validation data and testing data\n",
    "raw_data = reader.ptb_raw_data(data_dir)\n",
    "train_data, valid_data, test_data, _, _ = raw_data"
   ]
  },
  {
   "cell_type": "code",
   "execution_count": null,
   "metadata": {
    "tags": []
   },
   "outputs": [
    {
     "name": "stdout",
     "output_type": "stream",
     "text": [
      "Model: \"sequential_1\"\n",
      "_________________________________________________________________\n",
      " Layer (type)                Output Shape              Param #   \n",
      "=================================================================\n",
      " embedding_vocab (Embedding)  (30, 20, 200)            2000000   \n",
      "                                                                 \n",
      " rnn_1 (RNN)                 (30, 20, 128)             671088    \n",
      "                                                                 \n",
      " dense_1 (Dense)             (30, 20, 10000)           1290000   \n",
      "                                                                 \n",
      " activation_1 (Activation)   (30, 20, 10000)           0         \n",
      "                                                                 \n",
      "=================================================================\n",
      "Total params: 3,961,088\n",
      "Trainable params: 3,955,088\n",
      "Non-trainable params: 6,000\n",
      "_________________________________________________________________\n",
      "Epoch 1 : Learning rate: 1.000\n",
      "Itr 10 of 1549, perplexity: 4477.599 speed: 742 wps\n"
     ]
    }
   ],
   "source": [
    "\n",
    "# Instantiates the PTBModel class\n",
    "m=PTBModel.instance()   \n",
    "K = tf.keras.backend \n",
    "for i in range(max_epoch):\n",
    "    # Define the decay for this epoch\n",
    "    lr_decay = decay ** max(i - max_epoch_decay_lr, 0.0)\n",
    "    dcr = learning_rate * lr_decay\n",
    "    m._lr = dcr\n",
    "    K.set_value(m._model.optimizer.learning_rate,m._lr)\n",
    "    print(\"Epoch %d : Learning rate: %.3f\" % (i + 1, m._model.optimizer.learning_rate))\n",
    "    # Run the loop for this epoch in the training mode\n",
    "    train_perplexity = run_one_epoch(m, train_data,is_training=True,verbose=True)\n",
    "    print(\"Epoch %d : Train Perplexity: %.3f\" % (i + 1, train_perplexity))\n",
    "        \n",
    "    # Run the loop for this epoch in the validation mode\n",
    "    valid_perplexity = run_one_epoch(m, valid_data,is_training=False,verbose=False)\n",
    "    print(\"Epoch %d : Valid Perplexity: %.3f\" % (i + 1, valid_perplexity))\n",
    "    \n",
    "# Run the loop in the testing mode to see how effective was our training\n",
    "test_perplexity = run_one_epoch(m, test_data,is_training=False,verbose=False)\n",
    "print(\"Test Perplexity: %.3f\" % test_perplexity)\n",
    "\n"
   ]
  },
  {
   "cell_type": "markdown",
   "metadata": {
    "button": false,
    "deletable": true,
    "new_sheet": false,
    "run_control": {
     "read_only": false
    }
   },
   "source": [
    "As you can see, the model's perplexity rating drops very quickly after a few iterations. As was elaborated before, <b>lower Perplexity means that the model is more certain about its prediction</b>. As such, we can be sure that this model is performing well!\n"
   ]
  },
  {
   "cell_type": "markdown",
   "metadata": {
    "button": false,
    "deletable": true,
    "new_sheet": false,
    "run_control": {
     "read_only": false
    }
   },
   "source": [
    "***\n"
   ]
  },
  {
   "cell_type": "markdown",
   "metadata": {
    "button": false,
    "deletable": true,
    "new_sheet": false,
    "run_control": {
     "read_only": false
    }
   },
   "source": [
    "This is the end of the <b>Applying Recurrent Neural Networks to Text Processing</b> notebook. Hopefully you now have a better understanding of Recurrent Neural Networks and how to implement one utilizing TensorFlow. Thank you for reading this notebook, and good luck on your studies.\n"
   ]
  },
  {
   "cell_type": "markdown",
   "metadata": {
    "button": false,
    "deletable": true,
    "new_sheet": false,
    "run_control": {
     "read_only": false
    }
   },
   "source": [
    "## Want to learn more?\n",
    "\n",
    "Also, you can use **Watson Studio** to run these notebooks faster with bigger datasets.**Watson Studio** is IBM’s leading cloud solution for data scientists, built by data scientists. With Jupyter notebooks, RStudio, Apache Spark and popular libraries pre-packaged in the cloud, **Watson Studio** enables data scientists to collaborate on their projects without having to install anything. Join the fast-growing community of **Watson Studio** users today with a free account at [Watson Studio](https://cocl.us/ML0120EN_DSX).This is the end of this lesson. Thank you for reading this notebook, and good luck on your studies.\n"
   ]
  },
  {
   "cell_type": "markdown",
   "metadata": {
    "button": false,
    "deletable": true,
    "new_sheet": false,
    "run_control": {
     "read_only": false
    }
   },
   "source": [
    "### Thanks for completing this lesson!\n",
    "\n",
    "Notebook created by <a href=\"https://br.linkedin.com/in/walter-gomes-de-amorim-junior-624726121?utm_medium=Exinfluencer&utm_source=Exinfluencer&utm_content=000026UJ&utm_term=10006555&utm_id=NA-SkillsNetwork-Channel-SkillsNetworkCoursesIBMDeveloperSkillsNetworkDL0120ENSkillsNetwork20629446-2022-01-01\">Walter Gomes de Amorim Junior</a>, <a href = \"https://linkedin.com/in/saeedaghabozorgi?utm_medium=Exinfluencer&utm_source=Exinfluencer&utm_content=000026UJ&utm_term=10006555&utm_id=NA-SkillsNetwork-Channel-SkillsNetworkCoursesIBMDeveloperSkillsNetworkDL0120ENSkillsNetwork20629446-2022-01-01\"> Saeed Aghabozorgi </a></h4>\n",
    "\n",
    "Updated to TF 2.X by <a href=\"https://linkedin.com/in/romeo-kienzler-089b4557?utm_medium=Exinfluencer&utm_source=Exinfluencer&utm_content=000026UJ&utm_term=10006555&utm_id=NA-SkillsNetwork-Channel-SkillsNetworkCoursesIBMDeveloperSkillsNetworkDL0120ENSkillsNetwork20629446-2022-01-01\"> Romeo Kienzler </a>, <a href=\"https://www.linkedin.com/in/samaya-madhavan?utm_medium=Exinfluencer&utm_source=Exinfluencer&utm_content=000026UJ&utm_term=10006555&utm_id=NA-SkillsNetwork-Channel-SkillsNetworkCoursesIBMDeveloperSkillsNetworkDL0120ENSkillsNetwork20629446-2022-01-01\"> Samaya Madhavan </a>\n"
   ]
  },
  {
   "cell_type": "markdown",
   "metadata": {},
   "source": [
    "## Change Log\n",
    "\n",
    "| Date (YYYY-MM-DD) | Version | Changed By | Change Description                                          |\n",
    "| ----------------- | ------- | ---------- | ----------------------------------------------------------- |\n",
    "| 2020-09-21        | 2.0     | Srishti    | Migrated Lab to Markdown and added to course repo in GitLab |\n",
    "\n",
    "<hr>\n",
    "\n",
    "## <h3 align=\"center\"> © IBM Corporation 2020. All rights reserved. <h3/>\n"
   ]
  },
  {
   "cell_type": "markdown",
   "metadata": {
    "button": false,
    "deletable": true,
    "new_sheet": false,
    "run_control": {
     "read_only": false
    }
   },
   "source": [
    "<hr>\n",
    "\n",
    "Copyright © 2018 [Cognitive Class](https://cocl.us/DX0108EN_CC). This notebook and its source code are released under the terms of the [MIT License](https://bigdatauniversity.com/mit-license?utm_medium=Exinfluencer&utm_source=Exinfluencer&utm_content=000026UJ&utm_term=10006555&utm_id=NA-SkillsNetwork-Channel-SkillsNetworkCoursesIBMDeveloperSkillsNetworkDL0120ENSkillsNetwork20629446-2022-01-01&cm_mmc=Email_Newsletter-\\_-Developer_Ed%2BTech-\\_-WW_WW-\\_-SkillsNetwork-Courses-IBMDeveloperSkillsNetwork-DL0120EN-SkillsNetwork-20629446&cm_mmca1=000026UJ&cm_mmca2=10006555&cm_mmca3=M12345678&cvosrc=email.Newsletter.M12345678&cvo_campaign=000026UJ).\n"
   ]
  }
 ],
 "metadata": {
  "anaconda-cloud": {},
  "kernelspec": {
   "display_name": "Python",
   "language": "python",
   "name": "conda-env-python-py"
  },
  "language_info": {
   "codemirror_mode": {
    "name": "ipython",
    "version": 3
   },
   "file_extension": ".py",
   "mimetype": "text/x-python",
   "name": "python",
   "nbconvert_exporter": "python",
   "pygments_lexer": "ipython3",
   "version": "3.7.12"
  },
  "widgets": {
   "state": {},
   "version": "1.1.2"
  }
 },
 "nbformat": 4,
 "nbformat_minor": 4
}
